{
 "cells": [
  {
   "cell_type": "markdown",
   "metadata": {},
   "source": [
    "# Help\n",
    "\n",
    "The notebook retrives the data from the Un Com Trade and prepares the data for ready analysis. The parameters in the next cell can be changed and the notebook can be run again to get updated results."
   ]
  },
  {
   "cell_type": "code",
   "execution_count": null,
   "metadata": {},
   "outputs": [],
   "source": []
  },
  {
   "cell_type": "markdown",
   "metadata": {},
   "source": [
    "# Initialisation"
   ]
  },
  {
   "cell_type": "code",
   "execution_count": 1,
   "metadata": {},
   "outputs": [],
   "source": [
    "import os\n",
    "import sys\n",
    "sys.path.append(\"../..\") \n",
    "ROOT_DIR = '/home/jovyan/tta'\n",
    "\n",
    "from comtrade.analysis import Analysis\n",
    "tta = Analysis()"
   ]
  },
  {
   "cell_type": "code",
   "execution_count": 2,
   "metadata": {},
   "outputs": [],
   "source": [
    "import pandas as pd\n",
    "import matplotlib.pyplot as plt\n",
    "pd.set_option('display.max_rows', 5000)"
   ]
  },
  {
   "cell_type": "markdown",
   "metadata": {},
   "source": [
    "## Reporter Area"
   ]
  },
  {
   "cell_type": "code",
   "execution_count": 3,
   "metadata": {},
   "outputs": [
    {
     "data": {
      "text/plain": [
       "[{'id': '699', 'text': 'India'}, {'id': '356', 'text': 'India, excl. Sikkim'}]"
      ]
     },
     "execution_count": 3,
     "metadata": {},
     "output_type": "execute_result"
    }
   ],
   "source": [
    "from comtrade.code.reporter_area import ReporterArea\n",
    "reporter_area = ReporterArea()\n",
    "reporter_area_ids = reporter_area.get_ids(\"India\")\n",
    "reporter_area_ids"
   ]
  },
  {
   "cell_type": "markdown",
   "metadata": {},
   "source": [
    "## Partner Area"
   ]
  },
  {
   "cell_type": "code",
   "execution_count": 4,
   "metadata": {},
   "outputs": [
    {
     "data": {
      "text/plain": [
       "[{'id': '418', 'text': \"Lao People's Dem. Rep.\"}]"
      ]
     },
     "execution_count": 4,
     "metadata": {},
     "output_type": "execute_result"
    }
   ],
   "source": [
    "from comtrade.code.partner_area import PartnerArea\n",
    "partner_area = PartnerArea()\n",
    "partner_area_ids = partner_area.get_ids(\"lao\")\n",
    "partner_area_ids"
   ]
  },
  {
   "cell_type": "markdown",
   "metadata": {},
   "source": [
    "## Trade Regime"
   ]
  },
  {
   "cell_type": "code",
   "execution_count": 5,
   "metadata": {},
   "outputs": [
    {
     "data": {
      "text/plain": [
       "[{'id': '2', 'text': 'Export'}, {'id': '3', 'text': 're-Export'}]"
      ]
     },
     "execution_count": 5,
     "metadata": {},
     "output_type": "execute_result"
    }
   ],
   "source": [
    "from comtrade.code.trade_regime import TradeRegime\n",
    "trade_regime = TradeRegime()\n",
    "trade_regime_ids = trade_regime.get_ids(\"Export\")\n",
    "trade_regime_ids"
   ]
  },
  {
   "cell_type": "markdown",
   "metadata": {},
   "source": [
    "## Data availability request"
   ]
  },
  {
   "cell_type": "code",
   "execution_count": 6,
   "metadata": {},
   "outputs": [
    {
     "name": "stdout",
     "output_type": "stream",
     "text": [
      "[{'type': 'COMMODITIES', 'freq': 'MONTHLY', 'px': 'HS', 'r': '699', 'rDesc': 'India', 'ps': '201912', 'TotalRecords': 251502, 'isOriginal': 1, 'publicationDate': '2020-03-02T00:00:00', 'isPartnerDetail': 1}]\n",
      "[{'type': 'COMMODITIES', 'freq': 'MONTHLY', 'px': 'HS', 'r': '418', 'rDesc': \"Lao People's Dem. Rep.\", 'ps': '201912', 'TotalRecords': 15299, 'isOriginal': 1, 'publicationDate': '2020-06-14T00:00:00', 'isPartnerDetail': 1}]\n"
     ]
    }
   ],
   "source": [
    "source = 699 # India\n",
    "destination = 418 # Laos\n",
    "tta.set_source_destination(source, destination)\n",
    "\n",
    "source_status = tta.api.data_available(source, 201912, 'HS', 'M')\n",
    "print(source_status)\n",
    "destination_status = tta.api.data_available(destination, 201912, 'HS', 'M')\n",
    "print(destination_status)"
   ]
  },
  {
   "cell_type": "markdown",
   "metadata": {},
   "source": [
    "## Import Data"
   ]
  },
  {
   "cell_type": "code",
   "execution_count": 7,
   "metadata": {},
   "outputs": [
    {
     "name": "stdout",
     "output_type": "stream",
     "text": [
      "{'r': 699, 'p': 418, 'rg': 1, 'ps': '201901', 'px': 'HS', 'cc': 'TOTAL', 'freq': 'M', 'max': '100000'}\n",
      "{'r': 699, 'p': 418, 'rg': 1, 'ps': '201902', 'px': 'HS', 'cc': 'TOTAL', 'freq': 'M', 'max': '100000'}\n",
      "{'r': 699, 'p': 418, 'rg': 1, 'ps': '201903', 'px': 'HS', 'cc': 'TOTAL', 'freq': 'M', 'max': '100000'}\n",
      "{'r': 699, 'p': 418, 'rg': 1, 'ps': '201904', 'px': 'HS', 'cc': 'TOTAL', 'freq': 'M', 'max': '100000'}\n",
      "{'r': 699, 'p': 418, 'rg': 1, 'ps': '201905', 'px': 'HS', 'cc': 'TOTAL', 'freq': 'M', 'max': '100000'}\n",
      "{'r': 699, 'p': 418, 'rg': 1, 'ps': '201906', 'px': 'HS', 'cc': 'TOTAL', 'freq': 'M', 'max': '100000'}\n",
      "{'r': 699, 'p': 418, 'rg': 1, 'ps': '201907', 'px': 'HS', 'cc': 'TOTAL', 'freq': 'M', 'max': '100000'}\n",
      "{'r': 699, 'p': 418, 'rg': 1, 'ps': '201908', 'px': 'HS', 'cc': 'TOTAL', 'freq': 'M', 'max': '100000'}\n",
      "{'r': 699, 'p': 418, 'rg': 1, 'ps': '201909', 'px': 'HS', 'cc': 'TOTAL', 'freq': 'M', 'max': '100000'}\n",
      "{'r': 699, 'p': 418, 'rg': 1, 'ps': '201910', 'px': 'HS', 'cc': 'TOTAL', 'freq': 'M', 'max': '100000'}\n",
      "{'r': 699, 'p': 418, 'rg': 1, 'ps': '201911', 'px': 'HS', 'cc': 'TOTAL', 'freq': 'M', 'max': '100000'}\n",
      "{'r': 699, 'p': 418, 'rg': 1, 'ps': '201912', 'px': 'HS', 'cc': 'TOTAL', 'freq': 'M', 'max': '100000'}\n",
      "{'r': 418, 'p': 699, 'rg': 2, 'ps': '201901', 'px': 'HS', 'cc': 'TOTAL', 'freq': 'M', 'max': '100000'}\n",
      "{'r': 418, 'p': 699, 'rg': 2, 'ps': '201902', 'px': 'HS', 'cc': 'TOTAL', 'freq': 'M', 'max': '100000'}\n",
      "{'r': 418, 'p': 699, 'rg': 2, 'ps': '201903', 'px': 'HS', 'cc': 'TOTAL', 'freq': 'M', 'max': '100000'}\n",
      "{'r': 418, 'p': 699, 'rg': 2, 'ps': '201904', 'px': 'HS', 'cc': 'TOTAL', 'freq': 'M', 'max': '100000'}\n",
      "{'r': 418, 'p': 699, 'rg': 2, 'ps': '201905', 'px': 'HS', 'cc': 'TOTAL', 'freq': 'M', 'max': '100000'}\n",
      "{'r': 418, 'p': 699, 'rg': 2, 'ps': '201906', 'px': 'HS', 'cc': 'TOTAL', 'freq': 'M', 'max': '100000'}\n",
      "{'r': 418, 'p': 699, 'rg': 2, 'ps': '201907', 'px': 'HS', 'cc': 'TOTAL', 'freq': 'M', 'max': '100000'}\n",
      "{'r': 418, 'p': 699, 'rg': 2, 'ps': '201908', 'px': 'HS', 'cc': 'TOTAL', 'freq': 'M', 'max': '100000'}\n",
      "{'r': 418, 'p': 699, 'rg': 2, 'ps': '201909', 'px': 'HS', 'cc': 'TOTAL', 'freq': 'M', 'max': '100000'}\n",
      "{'r': 418, 'p': 699, 'rg': 2, 'ps': '201910', 'px': 'HS', 'cc': 'TOTAL', 'freq': 'M', 'max': '100000'}\n",
      "{'r': 418, 'p': 699, 'rg': 2, 'ps': '201911', 'px': 'HS', 'cc': 'TOTAL', 'freq': 'M', 'max': '100000'}\n",
      "{'r': 418, 'p': 699, 'rg': 2, 'ps': '201912', 'px': 'HS', 'cc': 'TOTAL', 'freq': 'M', 'max': '100000'}\n"
     ]
    }
   ],
   "source": [
    "in_imp = tta.api.get_month_data(source, destination, 1, 2019) \n",
    "la_exp = tta.api.get_month_data(destination, source, 2, 2019) "
   ]
  },
  {
   "cell_type": "code",
   "execution_count": 8,
   "metadata": {},
   "outputs": [
    {
     "data": {
      "text/html": [
       "<div>\n",
       "<style scoped>\n",
       "    .dataframe tbody tr th:only-of-type {\n",
       "        vertical-align: middle;\n",
       "    }\n",
       "\n",
       "    .dataframe tbody tr th {\n",
       "        vertical-align: top;\n",
       "    }\n",
       "\n",
       "    .dataframe thead th {\n",
       "        text-align: right;\n",
       "    }\n",
       "</style>\n",
       "<table border=\"1\" class=\"dataframe\">\n",
       "  <thead>\n",
       "    <tr style=\"text-align: right;\">\n",
       "      <th></th>\n",
       "      <th>india</th>\n",
       "      <th>lao</th>\n",
       "      <th>month</th>\n",
       "    </tr>\n",
       "  </thead>\n",
       "  <tbody>\n",
       "    <tr>\n",
       "      <th>201901</th>\n",
       "      <td>17102</td>\n",
       "      <td>12572373</td>\n",
       "      <td>201901</td>\n",
       "    </tr>\n",
       "    <tr>\n",
       "      <th>201902</th>\n",
       "      <td>14297</td>\n",
       "      <td>14744128</td>\n",
       "      <td>201902</td>\n",
       "    </tr>\n",
       "    <tr>\n",
       "      <th>201903</th>\n",
       "      <td>12809</td>\n",
       "      <td>13904361</td>\n",
       "      <td>201903</td>\n",
       "    </tr>\n",
       "    <tr>\n",
       "      <th>201904</th>\n",
       "      <td>212131</td>\n",
       "      <td>884799</td>\n",
       "      <td>201904</td>\n",
       "    </tr>\n",
       "    <tr>\n",
       "      <th>201905</th>\n",
       "      <td>127633</td>\n",
       "      <td>15071591</td>\n",
       "      <td>201905</td>\n",
       "    </tr>\n",
       "    <tr>\n",
       "      <th>201906</th>\n",
       "      <td>112976</td>\n",
       "      <td>8605716</td>\n",
       "      <td>201906</td>\n",
       "    </tr>\n",
       "    <tr>\n",
       "      <th>201907</th>\n",
       "      <td>339299</td>\n",
       "      <td>75958</td>\n",
       "      <td>201907</td>\n",
       "    </tr>\n",
       "    <tr>\n",
       "      <th>201908</th>\n",
       "      <td>17007</td>\n",
       "      <td>0</td>\n",
       "      <td>201908</td>\n",
       "    </tr>\n",
       "    <tr>\n",
       "      <th>201909</th>\n",
       "      <td>47145</td>\n",
       "      <td>21605</td>\n",
       "      <td>201909</td>\n",
       "    </tr>\n",
       "    <tr>\n",
       "      <th>201910</th>\n",
       "      <td>34744</td>\n",
       "      <td>126796</td>\n",
       "      <td>201910</td>\n",
       "    </tr>\n",
       "    <tr>\n",
       "      <th>201911</th>\n",
       "      <td>436285</td>\n",
       "      <td>14312072</td>\n",
       "      <td>201911</td>\n",
       "    </tr>\n",
       "    <tr>\n",
       "      <th>201912</th>\n",
       "      <td>383026</td>\n",
       "      <td>10288248</td>\n",
       "      <td>201912</td>\n",
       "    </tr>\n",
       "  </tbody>\n",
       "</table>\n",
       "</div>"
      ],
      "text/plain": [
       "         india       lao   month\n",
       "201901   17102  12572373  201901\n",
       "201902   14297  14744128  201902\n",
       "201903   12809  13904361  201903\n",
       "201904  212131    884799  201904\n",
       "201905  127633  15071591  201905\n",
       "201906  112976   8605716  201906\n",
       "201907  339299     75958  201907\n",
       "201908   17007         0  201908\n",
       "201909   47145     21605  201909\n",
       "201910   34744    126796  201910\n",
       "201911  436285  14312072  201911\n",
       "201912  383026  10288248  201912"
      ]
     },
     "execution_count": 8,
     "metadata": {},
     "output_type": "execute_result"
    }
   ],
   "source": [
    "df = pd.DataFrame.from_dict([in_imp, la_exp])\n",
    "df.index = ['india', 'lao']\n",
    "df = df.T\n",
    "df['month'] = df.index\n",
    "df"
   ]
  },
  {
   "cell_type": "code",
   "execution_count": 9,
   "metadata": {},
   "outputs": [
    {
     "data": {
      "image/png": "[encoded data removed]",
      "text/plain": [
       "<Figure size 432x288 with 1 Axes>"
      ]
     },
     "metadata": {
      "needs_background": "light"
     },
     "output_type": "display_data"
    }
   ],
   "source": [
    "df.plot(kind='bar', y=['india','lao'], x='month')\n",
    "plt.show()"
   ]
  },
  {
   "cell_type": "markdown",
   "metadata": {},
   "source": [
    "# Export Data"
   ]
  },
  {
   "cell_type": "code",
   "execution_count": 10,
   "metadata": {},
   "outputs": [
    {
     "name": "stdout",
     "output_type": "stream",
     "text": [
      "{'r': 699, 'p': 418, 'rg': 2, 'ps': '201901', 'px': 'HS', 'cc': 'TOTAL', 'freq': 'M', 'max': '100000'}\n",
      "{'r': 699, 'p': 418, 'rg': 2, 'ps': '201902', 'px': 'HS', 'cc': 'TOTAL', 'freq': 'M', 'max': '100000'}\n",
      "{'r': 699, 'p': 418, 'rg': 2, 'ps': '201903', 'px': 'HS', 'cc': 'TOTAL', 'freq': 'M', 'max': '100000'}\n",
      "{'r': 699, 'p': 418, 'rg': 2, 'ps': '201904', 'px': 'HS', 'cc': 'TOTAL', 'freq': 'M', 'max': '100000'}\n",
      "{'r': 699, 'p': 418, 'rg': 2, 'ps': '201905', 'px': 'HS', 'cc': 'TOTAL', 'freq': 'M', 'max': '100000'}\n",
      "{'r': 699, 'p': 418, 'rg': 2, 'ps': '201906', 'px': 'HS', 'cc': 'TOTAL', 'freq': 'M', 'max': '100000'}\n",
      "{'r': 699, 'p': 418, 'rg': 2, 'ps': '201907', 'px': 'HS', 'cc': 'TOTAL', 'freq': 'M', 'max': '100000'}\n",
      "{'r': 699, 'p': 418, 'rg': 2, 'ps': '201908', 'px': 'HS', 'cc': 'TOTAL', 'freq': 'M', 'max': '100000'}\n",
      "{'r': 699, 'p': 418, 'rg': 2, 'ps': '201909', 'px': 'HS', 'cc': 'TOTAL', 'freq': 'M', 'max': '100000'}\n",
      "{'r': 699, 'p': 418, 'rg': 2, 'ps': '201910', 'px': 'HS', 'cc': 'TOTAL', 'freq': 'M', 'max': '100000'}\n",
      "{'r': 699, 'p': 418, 'rg': 2, 'ps': '201911', 'px': 'HS', 'cc': 'TOTAL', 'freq': 'M', 'max': '100000'}\n",
      "{'r': 699, 'p': 418, 'rg': 2, 'ps': '201912', 'px': 'HS', 'cc': 'TOTAL', 'freq': 'M', 'max': '100000'}\n",
      "{'r': 418, 'p': 699, 'rg': 1, 'ps': '201901', 'px': 'HS', 'cc': 'TOTAL', 'freq': 'M', 'max': '100000'}\n",
      "{'r': 418, 'p': 699, 'rg': 1, 'ps': '201902', 'px': 'HS', 'cc': 'TOTAL', 'freq': 'M', 'max': '100000'}\n",
      "{'r': 418, 'p': 699, 'rg': 1, 'ps': '201903', 'px': 'HS', 'cc': 'TOTAL', 'freq': 'M', 'max': '100000'}\n",
      "{'r': 418, 'p': 699, 'rg': 1, 'ps': '201904', 'px': 'HS', 'cc': 'TOTAL', 'freq': 'M', 'max': '100000'}\n",
      "{'r': 418, 'p': 699, 'rg': 1, 'ps': '201905', 'px': 'HS', 'cc': 'TOTAL', 'freq': 'M', 'max': '100000'}\n",
      "{'r': 418, 'p': 699, 'rg': 1, 'ps': '201906', 'px': 'HS', 'cc': 'TOTAL', 'freq': 'M', 'max': '100000'}\n",
      "{'r': 418, 'p': 699, 'rg': 1, 'ps': '201907', 'px': 'HS', 'cc': 'TOTAL', 'freq': 'M', 'max': '100000'}\n",
      "{'r': 418, 'p': 699, 'rg': 1, 'ps': '201908', 'px': 'HS', 'cc': 'TOTAL', 'freq': 'M', 'max': '100000'}\n",
      "{'r': 418, 'p': 699, 'rg': 1, 'ps': '201909', 'px': 'HS', 'cc': 'TOTAL', 'freq': 'M', 'max': '100000'}\n",
      "{'r': 418, 'p': 699, 'rg': 1, 'ps': '201910', 'px': 'HS', 'cc': 'TOTAL', 'freq': 'M', 'max': '100000'}\n",
      "{'r': 418, 'p': 699, 'rg': 1, 'ps': '201911', 'px': 'HS', 'cc': 'TOTAL', 'freq': 'M', 'max': '100000'}\n",
      "{'r': 418, 'p': 699, 'rg': 1, 'ps': '201912', 'px': 'HS', 'cc': 'TOTAL', 'freq': 'M', 'max': '100000'}\n"
     ]
    }
   ],
   "source": [
    "in_exp = tta.api.get_month_data(source, destination, 2, 2019) \n",
    "la_imp = tta.api.get_month_data(destination, source, 1, 2019) "
   ]
  },
  {
   "cell_type": "code",
   "execution_count": 11,
   "metadata": {},
   "outputs": [
    {
     "data": {
      "text/html": [
       "<div>\n",
       "<style scoped>\n",
       "    .dataframe tbody tr th:only-of-type {\n",
       "        vertical-align: middle;\n",
       "    }\n",
       "\n",
       "    .dataframe tbody tr th {\n",
       "        vertical-align: top;\n",
       "    }\n",
       "\n",
       "    .dataframe thead th {\n",
       "        text-align: right;\n",
       "    }\n",
       "</style>\n",
       "<table border=\"1\" class=\"dataframe\">\n",
       "  <thead>\n",
       "    <tr style=\"text-align: right;\">\n",
       "      <th></th>\n",
       "      <th>india</th>\n",
       "      <th>lao</th>\n",
       "      <th>month</th>\n",
       "    </tr>\n",
       "  </thead>\n",
       "  <tbody>\n",
       "    <tr>\n",
       "      <th>201901</th>\n",
       "      <td>17102</td>\n",
       "      <td>12572373</td>\n",
       "      <td>201901</td>\n",
       "    </tr>\n",
       "    <tr>\n",
       "      <th>201902</th>\n",
       "      <td>14297</td>\n",
       "      <td>14744128</td>\n",
       "      <td>201902</td>\n",
       "    </tr>\n",
       "    <tr>\n",
       "      <th>201903</th>\n",
       "      <td>12809</td>\n",
       "      <td>13904361</td>\n",
       "      <td>201903</td>\n",
       "    </tr>\n",
       "    <tr>\n",
       "      <th>201904</th>\n",
       "      <td>212131</td>\n",
       "      <td>884799</td>\n",
       "      <td>201904</td>\n",
       "    </tr>\n",
       "    <tr>\n",
       "      <th>201905</th>\n",
       "      <td>127633</td>\n",
       "      <td>15071591</td>\n",
       "      <td>201905</td>\n",
       "    </tr>\n",
       "    <tr>\n",
       "      <th>201906</th>\n",
       "      <td>112976</td>\n",
       "      <td>8605716</td>\n",
       "      <td>201906</td>\n",
       "    </tr>\n",
       "    <tr>\n",
       "      <th>201907</th>\n",
       "      <td>339299</td>\n",
       "      <td>75958</td>\n",
       "      <td>201907</td>\n",
       "    </tr>\n",
       "    <tr>\n",
       "      <th>201908</th>\n",
       "      <td>17007</td>\n",
       "      <td>0</td>\n",
       "      <td>201908</td>\n",
       "    </tr>\n",
       "    <tr>\n",
       "      <th>201909</th>\n",
       "      <td>47145</td>\n",
       "      <td>21605</td>\n",
       "      <td>201909</td>\n",
       "    </tr>\n",
       "    <tr>\n",
       "      <th>201910</th>\n",
       "      <td>34744</td>\n",
       "      <td>126796</td>\n",
       "      <td>201910</td>\n",
       "    </tr>\n",
       "    <tr>\n",
       "      <th>201911</th>\n",
       "      <td>436285</td>\n",
       "      <td>14312072</td>\n",
       "      <td>201911</td>\n",
       "    </tr>\n",
       "    <tr>\n",
       "      <th>201912</th>\n",
       "      <td>383026</td>\n",
       "      <td>10288248</td>\n",
       "      <td>201912</td>\n",
       "    </tr>\n",
       "  </tbody>\n",
       "</table>\n",
       "</div>"
      ],
      "text/plain": [
       "         india       lao   month\n",
       "201901   17102  12572373  201901\n",
       "201902   14297  14744128  201902\n",
       "201903   12809  13904361  201903\n",
       "201904  212131    884799  201904\n",
       "201905  127633  15071591  201905\n",
       "201906  112976   8605716  201906\n",
       "201907  339299     75958  201907\n",
       "201908   17007         0  201908\n",
       "201909   47145     21605  201909\n",
       "201910   34744    126796  201910\n",
       "201911  436285  14312072  201911\n",
       "201912  383026  10288248  201912"
      ]
     },
     "execution_count": 11,
     "metadata": {},
     "output_type": "execute_result"
    }
   ],
   "source": [
    "df = pd.DataFrame.from_dict([in_imp, la_exp])\n",
    "df.index = ['india', 'lao']\n",
    "df = df.T\n",
    "df['month'] = df.index\n",
    "df"
   ]
  },
  {
   "cell_type": "code",
   "execution_count": 12,
   "metadata": {},
   "outputs": [
    {
     "data": {
      "image/png": "[encoded data removed]",
      "text/plain": [
       "<Figure size 432x288 with 1 Axes>"
      ]
     },
     "metadata": {
      "needs_background": "light"
     },
     "output_type": "display_data"
    }
   ],
   "source": [
    "df.plot(kind='bar', y=['india','lao'], x='month')\n",
    "plt.show()"
   ]
  },
  {
   "cell_type": "code",
   "execution_count": null,
   "metadata": {},
   "outputs": [],
   "source": []
  }
 ],
 "metadata": {
  "kernelspec": {
   "display_name": "Python 3",
   "language": "python",
   "name": "python3"
  },
  "language_info": {
   "codemirror_mode": {
    "name": "ipython",
    "version": 3
   },
   "file_extension": ".py",
   "mimetype": "text/x-python",
   "name": "python",
   "nbconvert_exporter": "python",
   "pygments_lexer": "ipython3",
   "version": "3.7.6"
  }
 },
 "nbformat": 4,
 "nbformat_minor": 1
}
