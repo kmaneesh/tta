{
 "cells": [
  {
   "cell_type": "markdown",
   "metadata": {},
   "source": [
    "# Make top level directory python package directory"
   ]
  },
  {
   "cell_type": "code",
   "execution_count": 1,
   "metadata": {},
   "outputs": [],
   "source": [
    "import os\n",
    "import sys\n",
    "sys.path.append(\"../..\") \n",
    "ROOT_DIR = '/home/jovyan/tta'"
   ]
  },
  {
   "cell_type": "markdown",
   "metadata": {},
   "source": [
    "## Import Analysis "
   ]
  },
  {
   "cell_type": "code",
   "execution_count": 3,
   "metadata": {},
   "outputs": [],
   "source": [
    "from comtrade.analysis import Analysis\n",
    "tta = Analysis()"
   ]
  },
  {
   "cell_type": "markdown",
   "metadata": {},
   "source": [
    "## Reporter Area"
   ]
  },
  {
   "cell_type": "code",
   "execution_count": 4,
   "metadata": {},
   "outputs": [
    {
     "data": {
      "text/plain": [
       "[{'id': '699', 'text': 'India'}, {'id': '356', 'text': 'India, excl. Sikkim'}]"
      ]
     },
     "execution_count": 4,
     "metadata": {},
     "output_type": "execute_result"
    }
   ],
   "source": [
    "from comtrade.code.reporter_area import ReporterArea\n",
    "reporter_area = ReporterArea()\n",
    "reporter_area_ids = reporter_area.get_ids(\"India\")\n",
    "reporter_area_ids"
   ]
  },
  {
   "cell_type": "markdown",
   "metadata": {},
   "source": [
    "## Partner Area"
   ]
  },
  {
   "cell_type": "code",
   "execution_count": 5,
   "metadata": {},
   "outputs": [
    {
     "data": {
      "text/plain": [
       "[{'id': '392', 'text': 'Japan'}]"
      ]
     },
     "execution_count": 5,
     "metadata": {},
     "output_type": "execute_result"
    }
   ],
   "source": [
    "from comtrade.code.partner_area import PartnerArea\n",
    "partner_area = PartnerArea()\n",
    "partner_area_ids = partner_area.get_ids(\"Japan\")\n",
    "partner_area_ids"
   ]
  },
  {
   "cell_type": "markdown",
   "metadata": {},
   "source": [
    "## Trade Regime"
   ]
  },
  {
   "cell_type": "code",
   "execution_count": 6,
   "metadata": {},
   "outputs": [
    {
     "data": {
      "text/plain": [
       "[{'id': '2', 'text': 'Export'}, {'id': '3', 'text': 're-Export'}]"
      ]
     },
     "execution_count": 6,
     "metadata": {},
     "output_type": "execute_result"
    }
   ],
   "source": [
    "from comtrade.code.trade_regime import TradeRegime\n",
    "trade_regime = TradeRegime()\n",
    "trade_regime_ids = trade_regime.get_ids(\"Export\")\n",
    "trade_regime_ids"
   ]
  },
  {
   "cell_type": "markdown",
   "metadata": {},
   "source": [
    "## Data availability request"
   ]
  },
  {
   "cell_type": "code",
   "execution_count": 7,
   "metadata": {},
   "outputs": [
    {
     "name": "stdout",
     "output_type": "stream",
     "text": [
      "[{'type': 'COMMODITIES', 'freq': 'ANNUAL', 'px': 'HS', 'r': '699', 'rDesc': 'India', 'ps': '2019', 'TotalRecords': 526744, 'isOriginal': 0, 'publicationDate': '2020-05-27T00:00:00', 'isPartnerDetail': 1}]\n",
      "[{'type': 'COMMODITIES', 'freq': 'ANNUAL', 'px': 'HS', 'r': '392', 'rDesc': 'Japan', 'ps': '2019', 'TotalRecords': 299359, 'isOriginal': 0, 'publicationDate': '2020-02-07T00:00:00', 'isPartnerDetail': 1}]\n"
     ]
    }
   ],
   "source": [
    "source = 699 # India\n",
    "destination = 392 # Japan\n",
    "tta.set_source_destination(source, destination)\n",
    "source_status = tta.source_data_available()\n",
    "print(source_status)\n",
    "destination_status = tta.destination_data_available()\n",
    "print(destination_status)"
   ]
  },
  {
   "cell_type": "markdown",
   "metadata": {},
   "source": [
    "## Data request"
   ]
  },
  {
   "cell_type": "code",
   "execution_count": null,
   "metadata": {},
   "outputs": [],
   "source": [
    "data = tta.compare_export()"
   ]
  },
  {
   "cell_type": "code",
   "execution_count": null,
   "metadata": {},
   "outputs": [],
   "source": [
    "data"
   ]
  },
  {
   "cell_type": "code",
   "execution_count": null,
   "metadata": {},
   "outputs": [],
   "source": [
    "import pandas as pd\n",
    "pd.set_option('display.max_rows', 5000)"
   ]
  },
  {
   "cell_type": "code",
   "execution_count": null,
   "metadata": {},
   "outputs": [],
   "source": [
    "df = pd.DataFrame.from_dict(data, orient='index')"
   ]
  },
  {
   "cell_type": "code",
   "execution_count": null,
   "metadata": {},
   "outputs": [],
   "source": [
    "df['value_diff'] = df['value_a'] - df['value_b']\n",
    "df"
   ]
  },
  {
   "cell_type": "code",
   "execution_count": null,
   "metadata": {},
   "outputs": [],
   "source": [
    "df.sort_values(by=['value_diff'])"
   ]
  },
  {
   "cell_type": "code",
   "execution_count": null,
   "metadata": {},
   "outputs": [],
   "source": [
    "df.to_csv('in_jp.csv')"
   ]
  },
  {
   "cell_type": "code",
   "execution_count": null,
   "metadata": {},
   "outputs": [],
   "source": []
  }
 ],
 "metadata": {
  "kernelspec": {
   "display_name": "Python 3",
   "language": "python",
   "name": "python3"
  },
  "language_info": {
   "codemirror_mode": {
    "name": "ipython",
    "version": 3
   },
   "file_extension": ".py",
   "mimetype": "text/x-python",
   "name": "python",
   "nbconvert_exporter": "python",
   "pygments_lexer": "ipython3",
   "version": "3.7.6"
  }
 },
 "nbformat": 4,
 "nbformat_minor": 1
}
