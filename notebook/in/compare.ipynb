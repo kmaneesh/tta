{
 "cells": [
  {
   "cell_type": "markdown",
   "metadata": {},
   "source": [
    "# Settings & Initialisation"
   ]
  },
  {
   "cell_type": "code",
   "execution_count": 1,
   "metadata": {},
   "outputs": [],
   "source": [
    "import os\n",
    "import sys\n",
    "sys.path.append(\"../..\") \n",
    "ROOT_DIR = '/home/jovyan/tta'\n",
    "from IPython.core.display import display, HTML\n",
    "from web.india.commerce import Commerce\n",
    "api = Commerce()"
   ]
  },
  {
   "cell_type": "code",
   "execution_count": 2,
   "metadata": {},
   "outputs": [
    {
     "data": {
      "text/plain": [
       "'205'"
      ]
     },
     "execution_count": 2,
     "metadata": {},
     "output_type": "execute_result"
    }
   ],
   "source": [
    "api.get_country_code(\"JAPAN\")"
   ]
  },
  {
   "cell_type": "code",
   "execution_count": 3,
   "metadata": {},
   "outputs": [
    {
     "name": "stdout",
     "output_type": "stream",
     "text": [
      "{'radioFY': 1, 'mm1': 2, 'yy1': 2020, 'cntcode': 205, 'hslevel': 2, 'sort': 0, 'radioDAll': 1, 'radiousd': 1}\n"
     ]
    },
    {
     "name": "stderr",
     "output_type": "stream",
     "text": [
      "/opt/conda/lib/python3.7/site-packages/urllib3/connectionpool.py:986: InsecureRequestWarning: Unverified HTTPS request is being made to host 'commerce-app.gov.in'. Adding certificate verification is strongly advised. See: https://urllib3.readthedocs.io/en/latest/advanced-usage.html#ssl-warnings\n",
      "  InsecureRequestWarning,\n",
      "/opt/conda/lib/python3.7/site-packages/urllib3/connectionpool.py:986: InsecureRequestWarning: Unverified HTTPS request is being made to host 'commerce-app.gov.in'. Adding certificate verification is strongly advised. See: https://urllib3.readthedocs.io/en/latest/advanced-usage.html#ssl-warnings\n",
      "  InsecureRequestWarning,\n"
     ]
    },
    {
     "data": {
      "text/html": [
       "<html>\r\n",
       "\r\n",
       "<head>\r\n",
       "<title>GOVERNMENT OF INDIAMinistry of Commerce </title>\r\n",
       "<meta name=\"GENERATOR\" content=\"Microsoft FrontPage 3.0\">\r\n",
       "</head>\r\n",
       "\r\n",
       "<body>\r\n",
       "<div align=\"left\">\r\n",
       "<table border=\"0\" cellpadding=\"0\" cellspacing=\"0\" width=\"100%\" height=\"66\">\r\n",
       "  <tr>\r\n",
       "    <td width=\"13%\" height=\"64\"><IMG align=right alt=\"ashok4.gif (3062&#13;&#10;\r\n",
       "    bytes)\" height  =66 src=\"ashok4.gif\" width=39></td>\r\n",
       "    <td width=\"75%\" height=\"64\"><p align=\"center\"><strong><font color=\"#0000ff\"><big>GOVERNMENT\r\n",
       "    OF INDIA<br>\r\n",
       "    Ministry of Commerce &amp; Industry<br>\r\n",
       "    DEPARTMENT OF COMMERCE<br>Export Import Data Bank</big></font></strong></p></td>\r\n",
       "    <td width=\"12%\" height=\"64\"><IMG alt=\"indflag.gif (7907 bytes)\"\r\n",
       "    height=50 src =\"indflag.gif\" width=68 ></td>\r\n",
       "  </tr>\r\n",
       "</table>\r\n",
       "</div>\r\n",
       "\r\n",
       "<h1 align=\"center\" style=\"background-color: rgb(192,192,192); color: rgb(0,0,128)\"><span\r\n",
       "style=\"text-decoration: none\"><strong><font face=\"Arial\"><big>Error!</big></font></strong></span></h1>\r\n",
       "\r\n",
       "</body>\r\n",
       "</html>\r\n"
      ],
      "text/plain": [
       "<IPython.core.display.HTML object>"
      ]
     },
     "metadata": {},
     "output_type": "display_data"
    }
   ],
   "source": [
    "data = api.get_data(205, 2020, 2, 2)\n",
    "display(HTML(data))"
   ]
  },
  {
   "cell_type": "code",
   "execution_count": null,
   "metadata": {},
   "outputs": [],
   "source": []
  }
 ],
 "metadata": {
  "kernelspec": {
   "display_name": "Python 3",
   "language": "python",
   "name": "python3"
  },
  "language_info": {
   "codemirror_mode": {
    "name": "ipython",
    "version": 3
   },
   "file_extension": ".py",
   "mimetype": "text/x-python",
   "name": "python",
   "nbconvert_exporter": "python",
   "pygments_lexer": "ipython3",
   "version": "3.7.6"
  }
 },
 "nbformat": 4,
 "nbformat_minor": 1
}
