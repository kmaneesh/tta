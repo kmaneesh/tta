{
 "cells": [
  {
   "cell_type": "markdown",
   "metadata": {},
   "source": [
    "# Settings & Initialisation"
   ]
  },
  {
   "cell_type": "code",
   "execution_count": 1,
   "metadata": {},
   "outputs": [],
   "source": [
    "import os\n",
    "import sys\n",
    "sys.path.append(\"../../..\") \n",
    "ROOT_DIR = '/home/jovyan/tta'\n",
    "\n",
    "from comtrade.analysis import Analysis\n",
    "tta = Analysis()"
   ]
  },
  {
   "cell_type": "code",
   "execution_count": 2,
   "metadata": {},
   "outputs": [],
   "source": [
    "import pandas as pd\n",
    "import matplotlib.pyplot as plt\n",
    "pd.set_option('display.max_rows', 5000)"
   ]
  },
  {
   "cell_type": "markdown",
   "metadata": {},
   "source": [
    "## Reporter Area"
   ]
  },
  {
   "cell_type": "code",
   "execution_count": 3,
   "metadata": {},
   "outputs": [
    {
     "data": {
      "text/plain": [
       "[{'id': '699', 'text': 'India'}, {'id': '356', 'text': 'India, excl. Sikkim'}]"
      ]
     },
     "execution_count": 3,
     "metadata": {},
     "output_type": "execute_result"
    }
   ],
   "source": [
    "from comtrade.code.reporter_area import ReporterArea\n",
    "reporter_area = ReporterArea()\n",
    "reporter_area_ids = reporter_area.get_ids(\"India\")\n",
    "reporter_area_ids"
   ]
  },
  {
   "cell_type": "markdown",
   "metadata": {},
   "source": [
    "## Partner Area"
   ]
  },
  {
   "cell_type": "code",
   "execution_count": 4,
   "metadata": {},
   "outputs": [
    {
     "data": {
      "text/plain": [
       "[{'id': '408', 'text': \"Dem. People's Rep. of Korea\"},\n",
       " {'id': '410', 'text': 'Rep. of Korea'}]"
      ]
     },
     "execution_count": 4,
     "metadata": {},
     "output_type": "execute_result"
    }
   ],
   "source": [
    "from comtrade.code.partner_area import PartnerArea\n",
    "partner_area = PartnerArea()\n",
    "partner_area_ids = partner_area.get_ids(\"Korea\")\n",
    "partner_area_ids"
   ]
  },
  {
   "cell_type": "markdown",
   "metadata": {},
   "source": [
    "## Trade Regime"
   ]
  },
  {
   "cell_type": "code",
   "execution_count": 5,
   "metadata": {},
   "outputs": [
    {
     "data": {
      "text/plain": [
       "[{'id': '2', 'text': 'Export'}, {'id': '3', 'text': 're-Export'}]"
      ]
     },
     "execution_count": 5,
     "metadata": {},
     "output_type": "execute_result"
    }
   ],
   "source": [
    "from comtrade.code.trade_regime import TradeRegime\n",
    "trade_regime = TradeRegime()\n",
    "trade_regime_ids = trade_regime.get_ids(\"Export\")\n",
    "trade_regime_ids"
   ]
  },
  {
   "cell_type": "markdown",
   "metadata": {},
   "source": [
    "## Data availability request"
   ]
  },
  {
   "cell_type": "code",
   "execution_count": 6,
   "metadata": {},
   "outputs": [
    {
     "name": "stdout",
     "output_type": "stream",
     "text": [
      "[{'type': 'COMMODITIES', 'freq': 'MONTHLY', 'px': 'HS', 'r': '699', 'rDesc': 'India', 'ps': '201901', 'TotalRecords': 243076, 'isOriginal': 1, 'publicationDate': '2019-09-06T00:00:00', 'isPartnerDetail': 1}]\n",
      "[{'type': 'COMMODITIES', 'freq': 'MONTHLY', 'px': 'HS', 'r': '410', 'rDesc': 'Rep. of Korea', 'ps': '201901', 'TotalRecords': 197368, 'isOriginal': 1, 'publicationDate': '2020-04-23T00:00:00', 'isPartnerDetail': 1}]\n"
     ]
    }
   ],
   "source": [
    "source = 699 # India\n",
    "destination = 410 # South Korea\n",
    "tta.set_source_destination(source, destination)\n",
    "\n",
    "source_status = tta.api.data_available(source, 201901, 'HS', 'M')\n",
    "print(source_status)\n",
    "destination_status = tta.api.data_available(destination, 201901, 'HS', 'M')\n",
    "print(destination_status)"
   ]
  },
  {
   "cell_type": "markdown",
   "metadata": {},
   "source": [
    "## Import Data"
   ]
  },
  {
   "cell_type": "code",
   "execution_count": 7,
   "metadata": {},
   "outputs": [
    {
     "name": "stdout",
     "output_type": "stream",
     "text": [
      "{'r': 699, 'p': 410, 'rg': 1, 'ps': '201901', 'px': 'HS', 'cc': 'TOTAL', 'freq': 'M', 'max': '100000'}\n",
      "{'r': 699, 'p': 410, 'rg': 1, 'ps': '201902', 'px': 'HS', 'cc': 'TOTAL', 'freq': 'M', 'max': '100000'}\n",
      "{'r': 699, 'p': 410, 'rg': 1, 'ps': '201903', 'px': 'HS', 'cc': 'TOTAL', 'freq': 'M', 'max': '100000'}\n",
      "{'r': 699, 'p': 410, 'rg': 1, 'ps': '201904', 'px': 'HS', 'cc': 'TOTAL', 'freq': 'M', 'max': '100000'}\n",
      "{'r': 699, 'p': 410, 'rg': 1, 'ps': '201905', 'px': 'HS', 'cc': 'TOTAL', 'freq': 'M', 'max': '100000'}\n",
      "{'r': 699, 'p': 410, 'rg': 1, 'ps': '201906', 'px': 'HS', 'cc': 'TOTAL', 'freq': 'M', 'max': '100000'}\n",
      "{'r': 699, 'p': 410, 'rg': 1, 'ps': '201907', 'px': 'HS', 'cc': 'TOTAL', 'freq': 'M', 'max': '100000'}\n",
      "{'r': 699, 'p': 410, 'rg': 1, 'ps': '201908', 'px': 'HS', 'cc': 'TOTAL', 'freq': 'M', 'max': '100000'}\n",
      "{'r': 699, 'p': 410, 'rg': 1, 'ps': '201909', 'px': 'HS', 'cc': 'TOTAL', 'freq': 'M', 'max': '100000'}\n",
      "{'r': 699, 'p': 410, 'rg': 1, 'ps': '201910', 'px': 'HS', 'cc': 'TOTAL', 'freq': 'M', 'max': '100000'}\n",
      "{'r': 699, 'p': 410, 'rg': 1, 'ps': '201911', 'px': 'HS', 'cc': 'TOTAL', 'freq': 'M', 'max': '100000'}\n",
      "{'r': 699, 'p': 410, 'rg': 1, 'ps': '201912', 'px': 'HS', 'cc': 'TOTAL', 'freq': 'M', 'max': '100000'}\n",
      "{'r': 410, 'p': 699, 'rg': 2, 'ps': '201901', 'px': 'HS', 'cc': 'TOTAL', 'freq': 'M', 'max': '100000'}\n",
      "{'r': 410, 'p': 699, 'rg': 2, 'ps': '201902', 'px': 'HS', 'cc': 'TOTAL', 'freq': 'M', 'max': '100000'}\n",
      "{'r': 410, 'p': 699, 'rg': 2, 'ps': '201903', 'px': 'HS', 'cc': 'TOTAL', 'freq': 'M', 'max': '100000'}\n",
      "{'r': 410, 'p': 699, 'rg': 2, 'ps': '201904', 'px': 'HS', 'cc': 'TOTAL', 'freq': 'M', 'max': '100000'}\n",
      "{'r': 410, 'p': 699, 'rg': 2, 'ps': '201905', 'px': 'HS', 'cc': 'TOTAL', 'freq': 'M', 'max': '100000'}\n",
      "{'r': 410, 'p': 699, 'rg': 2, 'ps': '201906', 'px': 'HS', 'cc': 'TOTAL', 'freq': 'M', 'max': '100000'}\n",
      "{'r': 410, 'p': 699, 'rg': 2, 'ps': '201907', 'px': 'HS', 'cc': 'TOTAL', 'freq': 'M', 'max': '100000'}\n",
      "{'r': 410, 'p': 699, 'rg': 2, 'ps': '201908', 'px': 'HS', 'cc': 'TOTAL', 'freq': 'M', 'max': '100000'}\n",
      "{'r': 410, 'p': 699, 'rg': 2, 'ps': '201909', 'px': 'HS', 'cc': 'TOTAL', 'freq': 'M', 'max': '100000'}\n",
      "{'r': 410, 'p': 699, 'rg': 2, 'ps': '201910', 'px': 'HS', 'cc': 'TOTAL', 'freq': 'M', 'max': '100000'}\n",
      "{'r': 410, 'p': 699, 'rg': 2, 'ps': '201911', 'px': 'HS', 'cc': 'TOTAL', 'freq': 'M', 'max': '100000'}\n",
      "{'r': 410, 'p': 699, 'rg': 2, 'ps': '201912', 'px': 'HS', 'cc': 'TOTAL', 'freq': 'M', 'max': '100000'}\n"
     ]
    }
   ],
   "source": [
    "in_imp = tta.api.get_month_data(source, destination, 1, 2019) \n",
    "jp_exp = tta.api.get_month_data(destination, source, 2, 2019) "
   ]
  },
  {
   "cell_type": "code",
   "execution_count": 8,
   "metadata": {},
   "outputs": [
    {
     "data": {
      "text/html": [
       "<div>\n",
       "<style scoped>\n",
       "    .dataframe tbody tr th:only-of-type {\n",
       "        vertical-align: middle;\n",
       "    }\n",
       "\n",
       "    .dataframe tbody tr th {\n",
       "        vertical-align: top;\n",
       "    }\n",
       "\n",
       "    .dataframe thead th {\n",
       "        text-align: right;\n",
       "    }\n",
       "</style>\n",
       "<table border=\"1\" class=\"dataframe\">\n",
       "  <thead>\n",
       "    <tr style=\"text-align: right;\">\n",
       "      <th></th>\n",
       "      <th>india</th>\n",
       "      <th>south korea</th>\n",
       "      <th>month</th>\n",
       "    </tr>\n",
       "  </thead>\n",
       "  <tbody>\n",
       "    <tr>\n",
       "      <th>201901</th>\n",
       "      <td>1400304738</td>\n",
       "      <td>1426878440</td>\n",
       "      <td>201901</td>\n",
       "    </tr>\n",
       "    <tr>\n",
       "      <th>201902</th>\n",
       "      <td>1281070310</td>\n",
       "      <td>1211542091</td>\n",
       "      <td>201902</td>\n",
       "    </tr>\n",
       "    <tr>\n",
       "      <th>201903</th>\n",
       "      <td>1431970423</td>\n",
       "      <td>1374742288</td>\n",
       "      <td>201903</td>\n",
       "    </tr>\n",
       "    <tr>\n",
       "      <th>201904</th>\n",
       "      <td>1496723310</td>\n",
       "      <td>1322355640</td>\n",
       "      <td>201904</td>\n",
       "    </tr>\n",
       "    <tr>\n",
       "      <th>201905</th>\n",
       "      <td>1419284306</td>\n",
       "      <td>1414633494</td>\n",
       "      <td>201905</td>\n",
       "    </tr>\n",
       "    <tr>\n",
       "      <th>201906</th>\n",
       "      <td>1457433112</td>\n",
       "      <td>1271462559</td>\n",
       "      <td>201906</td>\n",
       "    </tr>\n",
       "    <tr>\n",
       "      <th>201907</th>\n",
       "      <td>1364901697</td>\n",
       "      <td>1367289664</td>\n",
       "      <td>201907</td>\n",
       "    </tr>\n",
       "    <tr>\n",
       "      <th>201908</th>\n",
       "      <td>1392529528</td>\n",
       "      <td>1284406484</td>\n",
       "      <td>201908</td>\n",
       "    </tr>\n",
       "    <tr>\n",
       "      <th>201909</th>\n",
       "      <td>1246352643</td>\n",
       "      <td>1149114330</td>\n",
       "      <td>201909</td>\n",
       "    </tr>\n",
       "    <tr>\n",
       "      <th>201910</th>\n",
       "      <td>1282959440</td>\n",
       "      <td>1155432477</td>\n",
       "      <td>201910</td>\n",
       "    </tr>\n",
       "    <tr>\n",
       "      <th>201911</th>\n",
       "      <td>1194246015</td>\n",
       "      <td>1038294244</td>\n",
       "      <td>201911</td>\n",
       "    </tr>\n",
       "    <tr>\n",
       "      <th>201912</th>\n",
       "      <td>1093139119</td>\n",
       "      <td>1080149702</td>\n",
       "      <td>201912</td>\n",
       "    </tr>\n",
       "  </tbody>\n",
       "</table>\n",
       "</div>"
      ],
      "text/plain": [
       "             india  south korea   month\n",
       "201901  1400304738   1426878440  201901\n",
       "201902  1281070310   1211542091  201902\n",
       "201903  1431970423   1374742288  201903\n",
       "201904  1496723310   1322355640  201904\n",
       "201905  1419284306   1414633494  201905\n",
       "201906  1457433112   1271462559  201906\n",
       "201907  1364901697   1367289664  201907\n",
       "201908  1392529528   1284406484  201908\n",
       "201909  1246352643   1149114330  201909\n",
       "201910  1282959440   1155432477  201910\n",
       "201911  1194246015   1038294244  201911\n",
       "201912  1093139119   1080149702  201912"
      ]
     },
     "execution_count": 8,
     "metadata": {},
     "output_type": "execute_result"
    }
   ],
   "source": [
    "df = pd.DataFrame.from_dict([in_imp, jp_exp])\n",
    "df.index = ['india', 'south korea']\n",
    "df = df.T\n",
    "df['month'] = df.index\n",
    "df"
   ]
  },
  {
   "cell_type": "code",
   "execution_count": 9,
   "metadata": {},
   "outputs": [
    {
     "data": {
      "image/png": "[encoded data removed]",
      "text/plain": [
       "<Figure size 432x288 with 1 Axes>"
      ]
     },
     "metadata": {
      "needs_background": "light"
     },
     "output_type": "display_data"
    }
   ],
   "source": [
    "df.plot(kind='bar', y=['india','south korea'], x='month')\n",
    "plt.show()"
   ]
  },
  {
   "cell_type": "markdown",
   "metadata": {},
   "source": [
    "# Export Data"
   ]
  },
  {
   "cell_type": "code",
   "execution_count": 10,
   "metadata": {},
   "outputs": [
    {
     "name": "stdout",
     "output_type": "stream",
     "text": [
      "{'r': 699, 'p': 410, 'rg': 2, 'ps': '201901', 'px': 'HS', 'cc': 'TOTAL', 'freq': 'M', 'max': '100000'}\n",
      "{'r': 699, 'p': 410, 'rg': 2, 'ps': '201902', 'px': 'HS', 'cc': 'TOTAL', 'freq': 'M', 'max': '100000'}\n",
      "{'r': 699, 'p': 410, 'rg': 2, 'ps': '201903', 'px': 'HS', 'cc': 'TOTAL', 'freq': 'M', 'max': '100000'}\n",
      "{'r': 699, 'p': 410, 'rg': 2, 'ps': '201904', 'px': 'HS', 'cc': 'TOTAL', 'freq': 'M', 'max': '100000'}\n",
      "{'r': 699, 'p': 410, 'rg': 2, 'ps': '201905', 'px': 'HS', 'cc': 'TOTAL', 'freq': 'M', 'max': '100000'}\n",
      "{'r': 699, 'p': 410, 'rg': 2, 'ps': '201906', 'px': 'HS', 'cc': 'TOTAL', 'freq': 'M', 'max': '100000'}\n",
      "{'r': 699, 'p': 410, 'rg': 2, 'ps': '201907', 'px': 'HS', 'cc': 'TOTAL', 'freq': 'M', 'max': '100000'}\n",
      "{'r': 699, 'p': 410, 'rg': 2, 'ps': '201908', 'px': 'HS', 'cc': 'TOTAL', 'freq': 'M', 'max': '100000'}\n",
      "{'r': 699, 'p': 410, 'rg': 2, 'ps': '201909', 'px': 'HS', 'cc': 'TOTAL', 'freq': 'M', 'max': '100000'}\n",
      "{'r': 699, 'p': 410, 'rg': 2, 'ps': '201910', 'px': 'HS', 'cc': 'TOTAL', 'freq': 'M', 'max': '100000'}\n",
      "{'r': 699, 'p': 410, 'rg': 2, 'ps': '201911', 'px': 'HS', 'cc': 'TOTAL', 'freq': 'M', 'max': '100000'}\n",
      "{'r': 699, 'p': 410, 'rg': 2, 'ps': '201912', 'px': 'HS', 'cc': 'TOTAL', 'freq': 'M', 'max': '100000'}\n",
      "{'r': 410, 'p': 699, 'rg': 1, 'ps': '201901', 'px': 'HS', 'cc': 'TOTAL', 'freq': 'M', 'max': '100000'}\n",
      "{'r': 410, 'p': 699, 'rg': 1, 'ps': '201902', 'px': 'HS', 'cc': 'TOTAL', 'freq': 'M', 'max': '100000'}\n",
      "{'r': 410, 'p': 699, 'rg': 1, 'ps': '201903', 'px': 'HS', 'cc': 'TOTAL', 'freq': 'M', 'max': '100000'}\n",
      "{'r': 410, 'p': 699, 'rg': 1, 'ps': '201904', 'px': 'HS', 'cc': 'TOTAL', 'freq': 'M', 'max': '100000'}\n",
      "{'r': 410, 'p': 699, 'rg': 1, 'ps': '201905', 'px': 'HS', 'cc': 'TOTAL', 'freq': 'M', 'max': '100000'}\n",
      "{'r': 410, 'p': 699, 'rg': 1, 'ps': '201906', 'px': 'HS', 'cc': 'TOTAL', 'freq': 'M', 'max': '100000'}\n",
      "{'r': 410, 'p': 699, 'rg': 1, 'ps': '201907', 'px': 'HS', 'cc': 'TOTAL', 'freq': 'M', 'max': '100000'}\n",
      "{'r': 410, 'p': 699, 'rg': 1, 'ps': '201908', 'px': 'HS', 'cc': 'TOTAL', 'freq': 'M', 'max': '100000'}\n",
      "{'r': 410, 'p': 699, 'rg': 1, 'ps': '201909', 'px': 'HS', 'cc': 'TOTAL', 'freq': 'M', 'max': '100000'}\n",
      "{'r': 410, 'p': 699, 'rg': 1, 'ps': '201910', 'px': 'HS', 'cc': 'TOTAL', 'freq': 'M', 'max': '100000'}\n",
      "{'r': 410, 'p': 699, 'rg': 1, 'ps': '201911', 'px': 'HS', 'cc': 'TOTAL', 'freq': 'M', 'max': '100000'}\n",
      "{'r': 410, 'p': 699, 'rg': 1, 'ps': '201912', 'px': 'HS', 'cc': 'TOTAL', 'freq': 'M', 'max': '100000'}\n"
     ]
    }
   ],
   "source": [
    "in_exp = tta.api.get_month_data(source, destination, 2, 2019) \n",
    "jp_imp = tta.api.get_month_data(destination, source, 1, 2019) "
   ]
  },
  {
   "cell_type": "code",
   "execution_count": 11,
   "metadata": {},
   "outputs": [
    {
     "data": {
      "text/html": [
       "<div>\n",
       "<style scoped>\n",
       "    .dataframe tbody tr th:only-of-type {\n",
       "        vertical-align: middle;\n",
       "    }\n",
       "\n",
       "    .dataframe tbody tr th {\n",
       "        vertical-align: top;\n",
       "    }\n",
       "\n",
       "    .dataframe thead th {\n",
       "        text-align: right;\n",
       "    }\n",
       "</style>\n",
       "<table border=\"1\" class=\"dataframe\">\n",
       "  <thead>\n",
       "    <tr style=\"text-align: right;\">\n",
       "      <th></th>\n",
       "      <th>india</th>\n",
       "      <th>south korea</th>\n",
       "      <th>month</th>\n",
       "    </tr>\n",
       "  </thead>\n",
       "  <tbody>\n",
       "    <tr>\n",
       "      <th>201901</th>\n",
       "      <td>1400304738</td>\n",
       "      <td>1426878440</td>\n",
       "      <td>201901</td>\n",
       "    </tr>\n",
       "    <tr>\n",
       "      <th>201902</th>\n",
       "      <td>1281070310</td>\n",
       "      <td>1211542091</td>\n",
       "      <td>201902</td>\n",
       "    </tr>\n",
       "    <tr>\n",
       "      <th>201903</th>\n",
       "      <td>1431970423</td>\n",
       "      <td>1374742288</td>\n",
       "      <td>201903</td>\n",
       "    </tr>\n",
       "    <tr>\n",
       "      <th>201904</th>\n",
       "      <td>1496723310</td>\n",
       "      <td>1322355640</td>\n",
       "      <td>201904</td>\n",
       "    </tr>\n",
       "    <tr>\n",
       "      <th>201905</th>\n",
       "      <td>1419284306</td>\n",
       "      <td>1414633494</td>\n",
       "      <td>201905</td>\n",
       "    </tr>\n",
       "    <tr>\n",
       "      <th>201906</th>\n",
       "      <td>1457433112</td>\n",
       "      <td>1271462559</td>\n",
       "      <td>201906</td>\n",
       "    </tr>\n",
       "    <tr>\n",
       "      <th>201907</th>\n",
       "      <td>1364901697</td>\n",
       "      <td>1367289664</td>\n",
       "      <td>201907</td>\n",
       "    </tr>\n",
       "    <tr>\n",
       "      <th>201908</th>\n",
       "      <td>1392529528</td>\n",
       "      <td>1284406484</td>\n",
       "      <td>201908</td>\n",
       "    </tr>\n",
       "    <tr>\n",
       "      <th>201909</th>\n",
       "      <td>1246352643</td>\n",
       "      <td>1149114330</td>\n",
       "      <td>201909</td>\n",
       "    </tr>\n",
       "    <tr>\n",
       "      <th>201910</th>\n",
       "      <td>1282959440</td>\n",
       "      <td>1155432477</td>\n",
       "      <td>201910</td>\n",
       "    </tr>\n",
       "    <tr>\n",
       "      <th>201911</th>\n",
       "      <td>1194246015</td>\n",
       "      <td>1038294244</td>\n",
       "      <td>201911</td>\n",
       "    </tr>\n",
       "    <tr>\n",
       "      <th>201912</th>\n",
       "      <td>1093139119</td>\n",
       "      <td>1080149702</td>\n",
       "      <td>201912</td>\n",
       "    </tr>\n",
       "  </tbody>\n",
       "</table>\n",
       "</div>"
      ],
      "text/plain": [
       "             india  south korea   month\n",
       "201901  1400304738   1426878440  201901\n",
       "201902  1281070310   1211542091  201902\n",
       "201903  1431970423   1374742288  201903\n",
       "201904  1496723310   1322355640  201904\n",
       "201905  1419284306   1414633494  201905\n",
       "201906  1457433112   1271462559  201906\n",
       "201907  1364901697   1367289664  201907\n",
       "201908  1392529528   1284406484  201908\n",
       "201909  1246352643   1149114330  201909\n",
       "201910  1282959440   1155432477  201910\n",
       "201911  1194246015   1038294244  201911\n",
       "201912  1093139119   1080149702  201912"
      ]
     },
     "execution_count": 11,
     "metadata": {},
     "output_type": "execute_result"
    }
   ],
   "source": [
    "df = pd.DataFrame.from_dict([in_imp, jp_exp])\n",
    "df.index = ['india', 'south korea']\n",
    "df = df.T\n",
    "df['month'] = df.index\n",
    "df"
   ]
  },
  {
   "cell_type": "code",
   "execution_count": 12,
   "metadata": {},
   "outputs": [
    {
     "data": {
      "image/png": "[encoded data removed]",
      "text/plain": [
       "<Figure size 432x288 with 1 Axes>"
      ]
     },
     "metadata": {
      "needs_background": "light"
     },
     "output_type": "display_data"
    }
   ],
   "source": [
    "df.plot(kind='bar', y=['india','south korea'], x='month')\n",
    "plt.show()"
   ]
  },
  {
   "cell_type": "code",
   "execution_count": null,
   "metadata": {},
   "outputs": [],
   "source": []
  }
 ],
 "metadata": {
  "kernelspec": {
   "display_name": "Python 3",
   "language": "python",
   "name": "python3"
  },
  "language_info": {
   "codemirror_mode": {
    "name": "ipython",
    "version": 3
   },
   "file_extension": ".py",
   "mimetype": "text/x-python",
   "name": "python",
   "nbconvert_exporter": "python",
   "pygments_lexer": "ipython3",
   "version": "3.7.6"
  }
 },
 "nbformat": 4,
 "nbformat_minor": 1
}
