{
 "cells": [
  {
   "cell_type": "markdown",
   "metadata": {},
   "source": [
    "# Help\n",
    "\n",
    "The notebook retrives the data from the Un Com Trade and prepares the data for ready analysis. The parameters in the next cell can be changed and the notebook can be run again to get updated results. The code paramaters can be located using the links.\n",
    "\n",
    "* Reporter Area (r): https://comtrade.un.org/Data/cache/reporterAreas.json\n",
    "* Partner Area (p): https://comtrade.un.org/Data/cache/partnerAreas.json\n",
    "* Frequency (freq): Monthly - M, Annual - A\n",
    "* Period (ps) : Annual (YYYY) - 2019, Monthly (YYYY or YYYYMM): Individual periods as 201001 or full years as 2010, automatically expands to query periods 201001,201002,201003,...,201012.\n",
    "* Classification (px): HS\n",
    "* Regime (rg) : [{'id': '1', 'text': 'Import'}, {'id': '2', 'text': 'Export'}, {'id': '3', 'text': 're-Export'}, {'id': '4', 'text': 're-Import'}]\n",
    "* Classification Code (cc): a commodity code valid in the selected classification. Full lists of codes for each classification are linked to above under the px parameter. Some codes are valid in all classifications - \n",
    "TOTAL Total trade between reporter and partner, no detail breakdown. AG1, AG2, AG3, AG4, AG5, AG6 Detailed codes at a specific digit level. For instance AG6 in HS gives all of the 6-digit codes, which are the most detailed codes that are internationally comparable. Not all classifications have all digit levels available.  ALL All codes in the classification.\n",
    "\n",
    "**a series is reporter data, b series is partner data**\n",
    "\n",
    "**Make change to other cell at your own discretion. A wrong change will break the application. When making change in the next cell, please make sure the value is enclosed by single quote. When data is pulled you can see the parameters which are used to full data**"
   ]
  },
  {
   "cell_type": "code",
   "execution_count": 1,
   "metadata": {},
   "outputs": [],
   "source": [
    "# Reporter\n",
    "reporter = '699' # India\n",
    "# Partner\n",
    "partner = 'ALL' # All\n",
    "# Period\n",
    "period = '2019' # Annual\n",
    "# Classification Code\n",
    "cc = '7108'"
   ]
  },
  {
   "cell_type": "markdown",
   "metadata": {},
   "source": [
    "# Initialisation"
   ]
  },
  {
   "cell_type": "code",
   "execution_count": 2,
   "metadata": {},
   "outputs": [],
   "source": [
    "import os\n",
    "import sys\n",
    "sys.path.append(\"../..\") \n",
    "ROOT_DIR = '/home/jovyan/tta'\n",
    "\n",
    "import pandas as pd\n",
    "import matplotlib.pyplot as plt\n",
    "pd.set_option('display.max_rows', 5000)\n",
    "plt.rcParams['figure.figsize'] = [20, 10]\n",
    "\n",
    "from comtrade.analysis import Analysis\n",
    "tta = Analysis()"
   ]
  },
  {
   "cell_type": "markdown",
   "metadata": {},
   "source": [
    "# Available"
   ]
  },
  {
   "cell_type": "code",
   "execution_count": 3,
   "metadata": {},
   "outputs": [
    {
     "name": "stdout",
     "output_type": "stream",
     "text": [
      "[{'type': 'COMMODITIES', 'freq': 'MONTHLY', 'px': 'HS', 'r': '699', 'rDesc': 'India', 'ps': '201912', 'TotalRecords': 251502, 'isOriginal': 1, 'publicationDate': '2020-03-02T00:00:00', 'isPartnerDetail': 1}]\n",
      "[{'type': 'COMMODITIES', 'freq': 'MONTHLY', 'px': 'HS', 'r': '440', 'rDesc': 'Lithuania', 'ps': '201912', 'TotalRecords': 121110, 'isOriginal': 1, 'publicationDate': '2020-02-20T00:00:00', 'isPartnerDetail': 1}, {'type': 'COMMODITIES', 'freq': 'MONTHLY', 'px': 'HS', 'r': '757', 'rDesc': 'Switzerland', 'ps': '201912', 'TotalRecords': 230203, 'isOriginal': 1, 'publicationDate': '2020-02-05T00:00:00', 'isPartnerDetail': 1}, {'type': 'COMMODITIES', 'freq': 'MONTHLY', 'px': 'HS', 'r': '616', 'rDesc': 'Poland', 'ps': '201912', 'TotalRecords': 256285, 'isOriginal': 1, 'publicationDate': '2020-02-22T00:00:00', 'isPartnerDetail': 1}, {'type': 'COMMODITIES', 'freq': 'MONTHLY', 'px': 'HS', 'r': '191', 'rDesc': 'Croatia', 'ps': '201912', 'TotalRecords': 109405, 'isOriginal': 1, 'publicationDate': '2020-06-09T00:00:00', 'isPartnerDetail': 1}, {'type': 'COMMODITIES', 'freq': 'MONTHLY', 'px': 'HS', 'r': '112', 'rDesc': 'Belarus', 'ps': '201912', 'TotalRecords': 80401, 'isOriginal': 1, 'publicationDate': '2020-02-29T00:00:00', 'isPartnerDetail': 1}, {'type': 'COMMODITIES', 'freq': 'MONTHLY', 'px': 'HS', 'r': '203', 'rDesc': 'Czechia', 'ps': '201912', 'TotalRecords': 223886, 'isOriginal': 1, 'publicationDate': '2020-02-21T00:00:00', 'isPartnerDetail': 1}, {'type': 'COMMODITIES', 'freq': 'MONTHLY', 'px': 'HS', 'r': '450', 'rDesc': 'Madagascar', 'ps': '201912', 'TotalRecords': 25105, 'isOriginal': 1, 'publicationDate': '2020-05-23T00:00:00', 'isPartnerDetail': 1}, {'type': 'COMMODITIES', 'freq': 'MONTHLY', 'px': 'HS', 'r': '499', 'rDesc': 'Montenegro', 'ps': '201912', 'TotalRecords': 34836, 'isOriginal': 1, 'publicationDate': '2020-03-23T00:00:00', 'isPartnerDetail': 1}, {'type': 'COMMODITIES', 'freq': 'MONTHLY', 'px': 'HS', 'r': '554', 'rDesc': 'New Zealand', 'ps': '201912', 'TotalRecords': 116689, 'isOriginal': 1, 'publicationDate': '2020-03-07T00:00:00', 'isPartnerDetail': 1}, {'type': 'COMMODITIES', 'freq': 'MONTHLY', 'px': 'HS', 'r': '36', 'rDesc': 'Australia', 'ps': '201912', 'TotalRecords': 130110, 'isOriginal': 1, 'publicationDate': '2020-06-14T00:00:00', 'isPartnerDetail': 1}, {'type': 'COMMODITIES', 'freq': 'MONTHLY', 'px': 'HS', 'r': '586', 'rDesc': 'Pakistan', 'ps': '201912', 'TotalRecords': 60371, 'isOriginal': 1, 'publicationDate': '2020-05-24T00:00:00', 'isPartnerDetail': 1}, {'type': 'COMMODITIES', 'freq': 'MONTHLY', 'px': 'HS', 'r': '686', 'rDesc': 'Senegal', 'ps': '201912', 'TotalRecords': 25004, 'isOriginal': 1, 'publicationDate': '2020-02-07T00:00:00', 'isPartnerDetail': 1}, {'type': 'COMMODITIES', 'freq': 'MONTHLY', 'px': 'HS', 'r': '376', 'rDesc': 'Israel', 'ps': '201912', 'TotalRecords': 81374, 'isOriginal': 1, 'publicationDate': '2020-05-17T00:00:00', 'isPartnerDetail': 1}, {'type': 'COMMODITIES', 'freq': 'MONTHLY', 'px': 'HS', 'r': '860', 'rDesc': 'Uzbekistan', 'ps': '201912', 'TotalRecords': 35249, 'isOriginal': 1, 'publicationDate': '2020-06-15T00:00:00', 'isPartnerDetail': 1}, {'type': 'COMMODITIES', 'freq': 'MONTHLY', 'px': 'HS', 'r': '352', 'rDesc': 'Iceland', 'ps': '201912', 'TotalRecords': 52058, 'isOriginal': 1, 'publicationDate': '2020-05-21T00:00:00', 'isPartnerDetail': 1}, {'type': 'COMMODITIES', 'freq': 'MONTHLY', 'px': 'HS', 'r': '124', 'rDesc': 'Canada', 'ps': '201912', 'TotalRecords': 240709, 'isOriginal': 1, 'publicationDate': '2020-05-20T00:00:00', 'isPartnerDetail': 1}, {'type': 'COMMODITIES', 'freq': 'MONTHLY', 'px': 'HS', 'r': '51', 'rDesc': 'Armenia', 'ps': '201912', 'TotalRecords': 38306, 'isOriginal': 1, 'publicationDate': '2020-02-26T00:00:00', 'isPartnerDetail': 1}, {'type': 'COMMODITIES', 'freq': 'MONTHLY', 'px': 'HS', 'r': '470', 'rDesc': 'Malta', 'ps': '201912', 'TotalRecords': 34909, 'isOriginal': 1, 'publicationDate': '2020-03-07T00:00:00', 'isPartnerDetail': 1}, {'type': 'COMMODITIES', 'freq': 'MONTHLY', 'px': 'HS', 'r': '480', 'rDesc': 'Mauritius', 'ps': '201912', 'TotalRecords': 37486, 'isOriginal': 1, 'publicationDate': '2020-03-11T00:00:00', 'isPartnerDetail': 1}, {'type': 'COMMODITIES', 'freq': 'MONTHLY', 'px': 'HS', 'r': '320', 'rDesc': 'Guatemala', 'ps': '201912', 'TotalRecords': 52325, 'isOriginal': 1, 'publicationDate': '2020-02-29T00:00:00', 'isPartnerDetail': 1}, {'type': 'COMMODITIES', 'freq': 'MONTHLY', 'px': 'HS', 'r': '392', 'rDesc': 'Japan', 'ps': '201912', 'TotalRecords': 165846, 'isOriginal': 1, 'publicationDate': '2020-02-05T00:00:00', 'isPartnerDetail': 1}, {'type': 'COMMODITIES', 'freq': 'MONTHLY', 'px': 'HS', 'r': '826', 'rDesc': 'United Kingdom', 'ps': '201912', 'TotalRecords': 323102, 'isOriginal': 1, 'publicationDate': '2020-06-04T00:00:00', 'isPartnerDetail': 1}, {'type': 'COMMODITIES', 'freq': 'MONTHLY', 'px': 'HS', 'r': '372', 'rDesc': 'Ireland', 'ps': '201912', 'TotalRecords': 101539, 'isOriginal': 1, 'publicationDate': '2020-06-23T00:00:00', 'isPartnerDetail': 1}, {'type': 'COMMODITIES', 'freq': 'MONTHLY', 'px': 'HS', 'r': '428', 'rDesc': 'Latvia', 'ps': '201912', 'TotalRecords': 89567, 'isOriginal': 1, 'publicationDate': '2020-05-24T00:00:00', 'isPartnerDetail': 1}, {'type': 'COMMODITIES', 'freq': 'MONTHLY', 'px': 'HS', 'r': '268', 'rDesc': 'Georgia', 'ps': '201912', 'TotalRecords': 50832, 'isOriginal': 1, 'publicationDate': '2020-02-01T00:00:00', 'isPartnerDetail': 1}, {'type': 'COMMODITIES', 'freq': 'MONTHLY', 'px': 'HS', 'r': '703', 'rDesc': 'Slovakia', 'ps': '201912', 'TotalRecords': 144274, 'isOriginal': 1, 'publicationDate': '2020-05-28T00:00:00', 'isPartnerDetail': 1}, {'type': 'COMMODITIES', 'freq': 'MONTHLY', 'px': 'HS', 'r': '608', 'rDesc': 'Philippines', 'ps': '201912', 'TotalRecords': 67359, 'isOriginal': 1, 'publicationDate': '2020-03-25T00:00:00', 'isPartnerDetail': 1}, {'type': 'COMMODITIES', 'freq': 'MONTHLY', 'px': 'HS', 'r': '702', 'rDesc': 'Singapore', 'ps': '201912', 'TotalRecords': 172422, 'isOriginal': 1, 'publicationDate': '2020-05-31T00:00:00', 'isPartnerDetail': 1}, {'type': 'COMMODITIES', 'freq': 'MONTHLY', 'px': 'HS', 'r': '752', 'rDesc': 'Sweden', 'ps': '201912', 'TotalRecords': 196768, 'isOriginal': 1, 'publicationDate': '2020-06-28T00:00:00', 'isPartnerDetail': 1}, {'type': 'COMMODITIES', 'freq': 'MONTHLY', 'px': 'HS', 'r': '504', 'rDesc': 'Morocco', 'ps': '201912', 'TotalRecords': 68481, 'isOriginal': 1, 'publicationDate': '2020-06-09T00:00:00', 'isPartnerDetail': 1}, {'type': 'COMMODITIES', 'freq': 'MONTHLY', 'px': 'HS', 'r': '170', 'rDesc': 'Colombia', 'ps': '201912', 'TotalRecords': 75348, 'isOriginal': 1, 'publicationDate': '2020-07-02T00:00:00', 'isPartnerDetail': 1}, {'type': 'COMMODITIES', 'freq': 'MONTHLY', 'px': 'HS', 'r': '807', 'rDesc': 'North Macedonia', 'ps': '201912', 'TotalRecords': 56000, 'isOriginal': 1, 'publicationDate': '2020-02-20T00:00:00', 'isPartnerDetail': 1}, {'type': 'COMMODITIES', 'freq': 'MONTHLY', 'px': 'HS', 'r': '76', 'rDesc': 'Brazil', 'ps': '201912', 'TotalRecords': 148529, 'isOriginal': 1, 'publicationDate': '2020-06-08T00:00:00', 'isPartnerDetail': 1}, {'type': 'COMMODITIES', 'freq': 'MONTHLY', 'px': 'HS', 'r': '152', 'rDesc': 'Chile', 'ps': '201912', 'TotalRecords': 81566, 'isOriginal': 1, 'publicationDate': '2020-02-28T00:00:00', 'isPartnerDetail': 1}, {'type': 'COMMODITIES', 'freq': 'MONTHLY', 'px': 'HS', 'r': '398', 'rDesc': 'Kazakhstan', 'ps': '201912', 'TotalRecords': 57549, 'isOriginal': 1, 'publicationDate': '2020-03-23T00:00:00', 'isPartnerDetail': 1}, {'type': 'COMMODITIES', 'freq': 'MONTHLY', 'px': 'HS', 'r': '417', 'rDesc': 'Kyrgyzstan', 'ps': '201912', 'TotalRecords': 21155, 'isOriginal': 1, 'publicationDate': '2020-02-29T00:00:00', 'isPartnerDetail': 1}, {'type': 'COMMODITIES', 'freq': 'MONTHLY', 'px': 'HS', 'r': '418', 'rDesc': \"Lao People's Dem. Rep.\", 'ps': '201912', 'TotalRecords': 15299, 'isOriginal': 1, 'publicationDate': '2020-06-14T00:00:00', 'isPartnerDetail': 1}, {'type': 'COMMODITIES', 'freq': 'MONTHLY', 'px': 'HS', 'r': '344', 'rDesc': 'China, Hong Kong SAR', 'ps': '201912', 'TotalRecords': 139319, 'isOriginal': 1, 'publicationDate': '2020-02-08T00:00:00', 'isPartnerDetail': 1}, {'type': 'COMMODITIES', 'freq': 'MONTHLY', 'px': 'HS', 'r': '72', 'rDesc': 'Botswana', 'ps': '201912', 'TotalRecords': 20760, 'isOriginal': 1, 'publicationDate': '2020-05-18T00:00:00', 'isPartnerDetail': 1}, {'type': 'COMMODITIES', 'freq': 'MONTHLY', 'px': 'HS', 'r': '97', 'rDesc': 'EU-28', 'ps': '201912', 'TotalRecords': 565200, 'isOriginal': 1, 'publicationDate': '2020-03-14T00:00:00', 'isPartnerDetail': 1}, {'type': 'COMMODITIES', 'freq': 'MONTHLY', 'px': 'HS', 'r': '208', 'rDesc': 'Denmark', 'ps': '201912', 'TotalRecords': 205191, 'isOriginal': 1, 'publicationDate': '2020-02-15T00:00:00', 'isPartnerDetail': 1}, {'type': 'COMMODITIES', 'freq': 'MONTHLY', 'px': 'HS', 'r': '56', 'rDesc': 'Belgium', 'ps': '201912', 'TotalRecords': 294393, 'isOriginal': 1, 'publicationDate': '2020-04-17T00:00:00', 'isPartnerDetail': 1}, {'type': 'COMMODITIES', 'freq': 'MONTHLY', 'px': 'HS', 'r': '196', 'rDesc': 'Cyprus', 'ps': '201912', 'TotalRecords': 44662, 'isOriginal': 1, 'publicationDate': '2020-03-17T00:00:00', 'isPartnerDetail': 1}, {'type': 'COMMODITIES', 'freq': 'MONTHLY', 'px': 'HS', 'r': '792', 'rDesc': 'Turkey', 'ps': '201912', 'TotalRecords': 241398, 'isOriginal': 1, 'publicationDate': '2020-05-18T00:00:00', 'isPartnerDetail': 1}, {'type': 'COMMODITIES', 'freq': 'MONTHLY', 'px': 'HS', 'r': '442', 'rDesc': 'Luxembourg', 'ps': '201912', 'TotalRecords': 104696, 'isOriginal': 1, 'publicationDate': '2020-03-07T00:00:00', 'isPartnerDetail': 1}, {'type': 'COMMODITIES', 'freq': 'MONTHLY', 'px': 'HS', 'r': '446', 'rDesc': 'China, Macao SAR', 'ps': '201912', 'TotalRecords': 18490, 'isOriginal': 1, 'publicationDate': '2020-03-25T00:00:00', 'isPartnerDetail': 1}, {'type': 'COMMODITIES', 'freq': 'MONTHLY', 'px': 'HS', 'r': '300', 'rDesc': 'Greece', 'ps': '201912', 'TotalRecords': 112356, 'isOriginal': 1, 'publicationDate': '2020-03-14T00:00:00', 'isPartnerDetail': 1}, {'type': 'COMMODITIES', 'freq': 'MONTHLY', 'px': 'HS', 'r': '84', 'rDesc': 'Belize', 'ps': '201912', 'TotalRecords': 13422, 'isOriginal': 1, 'publicationDate': '2020-03-06T00:00:00', 'isPartnerDetail': 1}, {'type': 'COMMODITIES', 'freq': 'MONTHLY', 'px': 'HS', 'r': '70', 'rDesc': 'Bosnia Herzegovina', 'ps': '201912', 'TotalRecords': 67510, 'isOriginal': 1, 'publicationDate': '2020-02-15T00:00:00', 'isPartnerDetail': 1}, {'type': 'COMMODITIES', 'freq': 'MONTHLY', 'px': 'HS', 'r': '620', 'rDesc': 'Portugal', 'ps': '201912', 'TotalRecords': 148629, 'isOriginal': 1, 'publicationDate': '2020-06-28T00:00:00', 'isPartnerDetail': 1}, {'type': 'COMMODITIES', 'freq': 'MONTHLY', 'px': 'HS', 'r': '634', 'rDesc': 'Qatar', 'ps': '201912', 'TotalRecords': 24639, 'isOriginal': 1, 'publicationDate': '2020-07-03T00:00:00', 'isPartnerDetail': 1}, {'type': 'COMMODITIES', 'freq': 'MONTHLY', 'px': 'HS', 'r': '28', 'rDesc': 'Antigua and Barbuda', 'ps': '201912', 'TotalRecords': 14367, 'isOriginal': 1, 'publicationDate': '2020-05-06T00:00:00', 'isPartnerDetail': 1}, {'type': 'COMMODITIES', 'freq': 'MONTHLY', 'px': 'HS', 'r': '32', 'rDesc': 'Argentina', 'ps': '201912', 'TotalRecords': 47848, 'isOriginal': 1, 'publicationDate': '2020-05-06T00:00:00', 'isPartnerDetail': 1}, {'type': 'COMMODITIES', 'freq': 'MONTHLY', 'px': 'HS', 'r': '699', 'rDesc': 'India', 'ps': '201912', 'TotalRecords': 251502, 'isOriginal': 1, 'publicationDate': '2020-03-02T00:00:00', 'isPartnerDetail': 1}, {'type': 'COMMODITIES', 'freq': 'MONTHLY', 'px': 'HS', 'r': '842', 'rDesc': 'USA', 'ps': '201912', 'TotalRecords': 398027, 'isOriginal': 1, 'publicationDate': '2020-03-26T00:00:00', 'isPartnerDetail': 1}, {'type': 'COMMODITIES', 'freq': 'MONTHLY', 'px': 'HS', 'r': '642', 'rDesc': 'Romania', 'ps': '201912', 'TotalRecords': 152868, 'isOriginal': 1, 'publicationDate': '2020-03-25T00:00:00', 'isPartnerDetail': 1}, {'type': 'COMMODITIES', 'freq': 'MONTHLY', 'px': 'HS', 'r': '710', 'rDesc': 'South Africa', 'ps': '201912', 'TotalRecords': 189425, 'isOriginal': 1, 'publicationDate': '2020-06-14T00:00:00', 'isPartnerDetail': 1}, {'type': 'COMMODITIES', 'freq': 'MONTHLY', 'px': 'HS', 'r': '31', 'rDesc': 'Azerbaijan', 'ps': '201912', 'TotalRecords': 41950, 'isOriginal': 1, 'publicationDate': '2020-02-14T00:00:00', 'isPartnerDetail': 1}, {'type': 'COMMODITIES', 'freq': 'MONTHLY', 'px': 'HS', 'r': '348', 'rDesc': 'Hungary', 'ps': '201912', 'TotalRecords': 154915, 'isOriginal': 1, 'publicationDate': '2020-03-31T00:00:00', 'isPartnerDetail': 1}, {'type': 'COMMODITIES', 'freq': 'MONTHLY', 'px': 'HS', 'r': '818', 'rDesc': 'Egypt', 'ps': '201912', 'TotalRecords': 54045, 'isOriginal': 1, 'publicationDate': '2020-04-24T00:00:00', 'isPartnerDetail': 1}, {'type': 'COMMODITIES', 'freq': 'MONTHLY', 'px': 'HS', 'r': '688', 'rDesc': 'Serbia', 'ps': '201912', 'TotalRecords': 99760, 'isOriginal': 1, 'publicationDate': '2020-05-02T00:00:00', 'isPartnerDetail': 1}, {'type': 'COMMODITIES', 'freq': 'MONTHLY', 'px': 'HS', 'r': '690', 'rDesc': 'Seychelles', 'ps': '201912', 'TotalRecords': 23504, 'isOriginal': 1, 'publicationDate': '2020-04-23T00:00:00', 'isPartnerDetail': 1}, {'type': 'COMMODITIES', 'freq': 'MONTHLY', 'px': 'HS', 'r': '276', 'rDesc': 'Germany', 'ps': '201912', 'TotalRecords': 491595, 'isOriginal': 1, 'publicationDate': '2020-05-05T00:00:00', 'isPartnerDetail': 1}, {'type': 'COMMODITIES', 'freq': 'MONTHLY', 'px': 'HS', 'r': '288', 'rDesc': 'Ghana', 'ps': '201912', 'TotalRecords': 44508, 'isOriginal': 1, 'publicationDate': '2020-06-23T00:00:00', 'isPartnerDetail': 1}, {'type': 'COMMODITIES', 'freq': 'MONTHLY', 'px': 'HS', 'r': '498', 'rDesc': 'Rep. of Moldova', 'ps': '201912', 'TotalRecords': 51181, 'isOriginal': 1, 'publicationDate': '2020-06-28T00:00:00', 'isPartnerDetail': 1}, {'type': 'COMMODITIES', 'freq': 'MONTHLY', 'px': 'HS', 'r': '484', 'rDesc': 'Mexico', 'ps': '201912', 'TotalRecords': 58682, 'isOriginal': 1, 'publicationDate': '2020-03-05T00:00:00', 'isPartnerDetail': 1}, {'type': 'COMMODITIES', 'freq': 'MONTHLY', 'px': 'HS', 'r': '716', 'rDesc': 'Zimbabwe', 'ps': '201912', 'TotalRecords': 18263, 'isOriginal': 1, 'publicationDate': '2020-04-02T00:00:00', 'isPartnerDetail': 1}, {'type': 'COMMODITIES', 'freq': 'MONTHLY', 'px': 'HS', 'r': '748', 'rDesc': 'Eswatini', 'ps': '201912', 'TotalRecords': 16933, 'isOriginal': 1, 'publicationDate': '2020-03-31T00:00:00', 'isPartnerDetail': 1}, {'type': 'COMMODITIES', 'freq': 'MONTHLY', 'px': 'HS', 'r': '410', 'rDesc': 'Rep. of Korea', 'ps': '201912', 'TotalRecords': 203054, 'isOriginal': 1, 'publicationDate': '2020-04-23T00:00:00', 'isPartnerDetail': 1}, {'type': 'COMMODITIES', 'freq': 'MONTHLY', 'px': 'HS', 'r': '174', 'rDesc': 'Comoros', 'ps': '201912', 'TotalRecords': 4673, 'isOriginal': 1, 'publicationDate': '2020-04-25T00:00:00', 'isPartnerDetail': 1}, {'type': 'COMMODITIES', 'freq': 'MONTHLY', 'px': 'HS', 'r': '178', 'rDesc': 'Congo', 'ps': '201912', 'TotalRecords': 14135, 'isOriginal': 1, 'publicationDate': '2020-05-14T00:00:00', 'isPartnerDetail': 1}, {'type': 'COMMODITIES', 'freq': 'MONTHLY', 'px': 'HS', 'r': '381', 'rDesc': 'Italy', 'ps': '201912', 'TotalRecords': 355704, 'isOriginal': 1, 'publicationDate': '2020-04-23T00:00:00', 'isPartnerDetail': 1}, {'type': 'COMMODITIES', 'freq': 'MONTHLY', 'px': 'HS', 'r': '384', 'rDesc': \"Côte d'Ivoire\", 'ps': '201912', 'TotalRecords': 39754, 'isOriginal': 1, 'publicationDate': '2020-05-30T00:00:00', 'isPartnerDetail': 1}, {'type': 'COMMODITIES', 'freq': 'MONTHLY', 'px': 'HS', 'r': '222', 'rDesc': 'El Salvador', 'ps': '201912', 'TotalRecords': 41510, 'isOriginal': 1, 'publicationDate': '2020-01-31T00:00:00', 'isPartnerDetail': 1}, {'type': 'COMMODITIES', 'freq': 'MONTHLY', 'px': 'HS', 'r': '894', 'rDesc': 'Zambia', 'ps': '201912', 'TotalRecords': 26956, 'isOriginal': 1, 'publicationDate': '2020-04-03T00:00:00', 'isPartnerDetail': 1}, {'type': 'COMMODITIES', 'freq': 'MONTHLY', 'px': 'HS', 'r': '975', 'rDesc': 'ASEAN', 'ps': '201912', 'TotalRecords': 275073, 'isOriginal': 1, 'publicationDate': '2020-06-22T00:00:00', 'isPartnerDetail': 1}]\n"
     ]
    }
   ],
   "source": [
    "status = tta.data_available(reporter, 201912, 'HS', 'M')\n",
    "print(status)\n",
    "status = tta.data_available(partner, 201912, 'HS', 'M')\n",
    "print(status)"
   ]
  },
  {
   "cell_type": "markdown",
   "metadata": {},
   "source": [
    "## Import Data"
   ]
  },
  {
   "cell_type": "code",
   "execution_count": 4,
   "metadata": {},
   "outputs": [
    {
     "name": "stdout",
     "output_type": "stream",
     "text": [
      "{'r': '699', 'p': 'ALL', 'rg': 1, 'ps': '201901', 'px': 'HS', 'cc': '7108', 'freq': 'M', 'max': '100000'}\n",
      "{'r': '699', 'p': 'ALL', 'rg': 1, 'ps': '201902', 'px': 'HS', 'cc': '7108', 'freq': 'M', 'max': '100000'}\n",
      "{'r': '699', 'p': 'ALL', 'rg': 1, 'ps': '201903', 'px': 'HS', 'cc': '7108', 'freq': 'M', 'max': '100000'}\n",
      "{'r': '699', 'p': 'ALL', 'rg': 1, 'ps': '201904', 'px': 'HS', 'cc': '7108', 'freq': 'M', 'max': '100000'}\n",
      "{'r': '699', 'p': 'ALL', 'rg': 1, 'ps': '201905', 'px': 'HS', 'cc': '7108', 'freq': 'M', 'max': '100000'}\n",
      "{'r': '699', 'p': 'ALL', 'rg': 1, 'ps': '201906', 'px': 'HS', 'cc': '7108', 'freq': 'M', 'max': '100000'}\n",
      "{'r': '699', 'p': 'ALL', 'rg': 1, 'ps': '201907', 'px': 'HS', 'cc': '7108', 'freq': 'M', 'max': '100000'}\n",
      "{'r': '699', 'p': 'ALL', 'rg': 1, 'ps': '201908', 'px': 'HS', 'cc': '7108', 'freq': 'M', 'max': '100000'}\n",
      "{'r': '699', 'p': 'ALL', 'rg': 1, 'ps': '201909', 'px': 'HS', 'cc': '7108', 'freq': 'M', 'max': '100000'}\n",
      "{'r': '699', 'p': 'ALL', 'rg': 1, 'ps': '201910', 'px': 'HS', 'cc': '7108', 'freq': 'M', 'max': '100000'}\n",
      "{'r': '699', 'p': 'ALL', 'rg': 1, 'ps': '201911', 'px': 'HS', 'cc': '7108', 'freq': 'M', 'max': '100000'}\n",
      "{'r': '699', 'p': 'ALL', 'rg': 1, 'ps': '201912', 'px': 'HS', 'cc': '7108', 'freq': 'M', 'max': '100000'}\n",
      "{'r': 'ALL', 'p': '699', 'rg': 2, 'ps': '201901', 'px': 'HS', 'cc': '7108', 'freq': 'M', 'max': '100000'}\n",
      "{'r': 'ALL', 'p': '699', 'rg': 2, 'ps': '201902', 'px': 'HS', 'cc': '7108', 'freq': 'M', 'max': '100000'}\n",
      "{'r': 'ALL', 'p': '699', 'rg': 2, 'ps': '201903', 'px': 'HS', 'cc': '7108', 'freq': 'M', 'max': '100000'}\n",
      "{'r': 'ALL', 'p': '699', 'rg': 2, 'ps': '201904', 'px': 'HS', 'cc': '7108', 'freq': 'M', 'max': '100000'}\n",
      "{'r': 'ALL', 'p': '699', 'rg': 2, 'ps': '201905', 'px': 'HS', 'cc': '7108', 'freq': 'M', 'max': '100000'}\n",
      "{'r': 'ALL', 'p': '699', 'rg': 2, 'ps': '201906', 'px': 'HS', 'cc': '7108', 'freq': 'M', 'max': '100000'}\n",
      "{'r': 'ALL', 'p': '699', 'rg': 2, 'ps': '201907', 'px': 'HS', 'cc': '7108', 'freq': 'M', 'max': '100000'}\n",
      "{'r': 'ALL', 'p': '699', 'rg': 2, 'ps': '201908', 'px': 'HS', 'cc': '7108', 'freq': 'M', 'max': '100000'}\n",
      "{'r': 'ALL', 'p': '699', 'rg': 2, 'ps': '201909', 'px': 'HS', 'cc': '7108', 'freq': 'M', 'max': '100000'}\n",
      "{'r': 'ALL', 'p': '699', 'rg': 2, 'ps': '201910', 'px': 'HS', 'cc': '7108', 'freq': 'M', 'max': '100000'}\n",
      "{'r': 'ALL', 'p': '699', 'rg': 2, 'ps': '201911', 'px': 'HS', 'cc': '7108', 'freq': 'M', 'max': '100000'}\n",
      "{'r': 'ALL', 'p': '699', 'rg': 2, 'ps': '201912', 'px': 'HS', 'cc': '7108', 'freq': 'M', 'max': '100000'}\n"
     ]
    }
   ],
   "source": [
    "rp_imp = tta.api.get_month_data(reporter, partner, 1, period, cc) \n",
    "pt_exp = tta.api.get_month_data(partner, reporter, 2, period, cc) "
   ]
  },
  {
   "cell_type": "code",
   "execution_count": 5,
   "metadata": {},
   "outputs": [
    {
     "data": {
      "text/html": [
       "<div>\n",
       "<style scoped>\n",
       "    .dataframe tbody tr th:only-of-type {\n",
       "        vertical-align: middle;\n",
       "    }\n",
       "\n",
       "    .dataframe tbody tr th {\n",
       "        vertical-align: top;\n",
       "    }\n",
       "\n",
       "    .dataframe thead th {\n",
       "        text-align: right;\n",
       "    }\n",
       "</style>\n",
       "<table border=\"1\" class=\"dataframe\">\n",
       "  <thead>\n",
       "    <tr style=\"text-align: right;\">\n",
       "      <th></th>\n",
       "      <th>reporter</th>\n",
       "      <th>partner</th>\n",
       "      <th>month</th>\n",
       "    </tr>\n",
       "  </thead>\n",
       "  <tbody>\n",
       "    <tr>\n",
       "      <th>201901</th>\n",
       "      <td>0</td>\n",
       "      <td>0</td>\n",
       "      <td>201901</td>\n",
       "    </tr>\n",
       "    <tr>\n",
       "      <th>201902</th>\n",
       "      <td>0</td>\n",
       "      <td>0</td>\n",
       "      <td>201902</td>\n",
       "    </tr>\n",
       "    <tr>\n",
       "      <th>201903</th>\n",
       "      <td>0</td>\n",
       "      <td>0</td>\n",
       "      <td>201903</td>\n",
       "    </tr>\n",
       "    <tr>\n",
       "      <th>201904</th>\n",
       "      <td>0</td>\n",
       "      <td>0</td>\n",
       "      <td>201904</td>\n",
       "    </tr>\n",
       "    <tr>\n",
       "      <th>201905</th>\n",
       "      <td>0</td>\n",
       "      <td>0</td>\n",
       "      <td>201905</td>\n",
       "    </tr>\n",
       "    <tr>\n",
       "      <th>201906</th>\n",
       "      <td>0</td>\n",
       "      <td>0</td>\n",
       "      <td>201906</td>\n",
       "    </tr>\n",
       "    <tr>\n",
       "      <th>201907</th>\n",
       "      <td>0</td>\n",
       "      <td>0</td>\n",
       "      <td>201907</td>\n",
       "    </tr>\n",
       "    <tr>\n",
       "      <th>201908</th>\n",
       "      <td>0</td>\n",
       "      <td>0</td>\n",
       "      <td>201908</td>\n",
       "    </tr>\n",
       "    <tr>\n",
       "      <th>201909</th>\n",
       "      <td>0</td>\n",
       "      <td>0</td>\n",
       "      <td>201909</td>\n",
       "    </tr>\n",
       "    <tr>\n",
       "      <th>201910</th>\n",
       "      <td>0</td>\n",
       "      <td>0</td>\n",
       "      <td>201910</td>\n",
       "    </tr>\n",
       "    <tr>\n",
       "      <th>201911</th>\n",
       "      <td>0</td>\n",
       "      <td>0</td>\n",
       "      <td>201911</td>\n",
       "    </tr>\n",
       "    <tr>\n",
       "      <th>201912</th>\n",
       "      <td>0</td>\n",
       "      <td>0</td>\n",
       "      <td>201912</td>\n",
       "    </tr>\n",
       "  </tbody>\n",
       "</table>\n",
       "</div>"
      ],
      "text/plain": [
       "        reporter  partner   month\n",
       "201901         0        0  201901\n",
       "201902         0        0  201902\n",
       "201903         0        0  201903\n",
       "201904         0        0  201904\n",
       "201905         0        0  201905\n",
       "201906         0        0  201906\n",
       "201907         0        0  201907\n",
       "201908         0        0  201908\n",
       "201909         0        0  201909\n",
       "201910         0        0  201910\n",
       "201911         0        0  201911\n",
       "201912         0        0  201912"
      ]
     },
     "execution_count": 5,
     "metadata": {},
     "output_type": "execute_result"
    }
   ],
   "source": [
    "df = pd.DataFrame.from_dict([rp_imp, pt_exp])\n",
    "df.index = ['reporter', 'partner']\n",
    "df = df.T\n",
    "df['month'] = df.index\n",
    "df"
   ]
  },
  {
   "cell_type": "code",
   "execution_count": 6,
   "metadata": {},
   "outputs": [
    {
     "data": {
      "image/png": "[encoded data removed]",
      "text/plain": [
       "<Figure size 1440x720 with 1 Axes>"
      ]
     },
     "metadata": {
      "needs_background": "light"
     },
     "output_type": "display_data"
    }
   ],
   "source": [
    "df.plot(kind='bar', y=['reporter','partner'], x='month')\n",
    "plt.show()"
   ]
  },
  {
   "cell_type": "markdown",
   "metadata": {},
   "source": [
    "# Export Data"
   ]
  },
  {
   "cell_type": "code",
   "execution_count": 7,
   "metadata": {},
   "outputs": [
    {
     "name": "stdout",
     "output_type": "stream",
     "text": [
      "{'r': '699', 'p': 'ALL', 'rg': 2, 'ps': '201901', 'px': 'HS', 'cc': '7108', 'freq': 'M', 'max': '100000'}\n",
      "{'r': '699', 'p': 'ALL', 'rg': 2, 'ps': '201902', 'px': 'HS', 'cc': '7108', 'freq': 'M', 'max': '100000'}\n",
      "{'r': '699', 'p': 'ALL', 'rg': 2, 'ps': '201903', 'px': 'HS', 'cc': '7108', 'freq': 'M', 'max': '100000'}\n",
      "{'r': '699', 'p': 'ALL', 'rg': 2, 'ps': '201904', 'px': 'HS', 'cc': '7108', 'freq': 'M', 'max': '100000'}\n",
      "{'r': '699', 'p': 'ALL', 'rg': 2, 'ps': '201905', 'px': 'HS', 'cc': '7108', 'freq': 'M', 'max': '100000'}\n",
      "{'r': '699', 'p': 'ALL', 'rg': 2, 'ps': '201906', 'px': 'HS', 'cc': '7108', 'freq': 'M', 'max': '100000'}\n",
      "{'r': '699', 'p': 'ALL', 'rg': 2, 'ps': '201907', 'px': 'HS', 'cc': '7108', 'freq': 'M', 'max': '100000'}\n",
      "{'r': '699', 'p': 'ALL', 'rg': 2, 'ps': '201908', 'px': 'HS', 'cc': '7108', 'freq': 'M', 'max': '100000'}\n",
      "{'r': '699', 'p': 'ALL', 'rg': 2, 'ps': '201909', 'px': 'HS', 'cc': '7108', 'freq': 'M', 'max': '100000'}\n",
      "{'r': '699', 'p': 'ALL', 'rg': 2, 'ps': '201910', 'px': 'HS', 'cc': '7108', 'freq': 'M', 'max': '100000'}\n",
      "{'r': '699', 'p': 'ALL', 'rg': 2, 'ps': '201911', 'px': 'HS', 'cc': '7108', 'freq': 'M', 'max': '100000'}\n",
      "{'r': '699', 'p': 'ALL', 'rg': 2, 'ps': '201912', 'px': 'HS', 'cc': '7108', 'freq': 'M', 'max': '100000'}\n",
      "{'r': 'ALL', 'p': '699', 'rg': 1, 'ps': '201901', 'px': 'HS', 'cc': '7108', 'freq': 'M', 'max': '100000'}\n",
      "{'r': 'ALL', 'p': '699', 'rg': 1, 'ps': '201902', 'px': 'HS', 'cc': '7108', 'freq': 'M', 'max': '100000'}\n",
      "{'r': 'ALL', 'p': '699', 'rg': 1, 'ps': '201903', 'px': 'HS', 'cc': '7108', 'freq': 'M', 'max': '100000'}\n",
      "{'r': 'ALL', 'p': '699', 'rg': 1, 'ps': '201904', 'px': 'HS', 'cc': '7108', 'freq': 'M', 'max': '100000'}\n",
      "{'r': 'ALL', 'p': '699', 'rg': 1, 'ps': '201905', 'px': 'HS', 'cc': '7108', 'freq': 'M', 'max': '100000'}\n",
      "{'r': 'ALL', 'p': '699', 'rg': 1, 'ps': '201906', 'px': 'HS', 'cc': '7108', 'freq': 'M', 'max': '100000'}\n",
      "{'r': 'ALL', 'p': '699', 'rg': 1, 'ps': '201907', 'px': 'HS', 'cc': '7108', 'freq': 'M', 'max': '100000'}\n",
      "{'r': 'ALL', 'p': '699', 'rg': 1, 'ps': '201908', 'px': 'HS', 'cc': '7108', 'freq': 'M', 'max': '100000'}\n",
      "{'r': 'ALL', 'p': '699', 'rg': 1, 'ps': '201909', 'px': 'HS', 'cc': '7108', 'freq': 'M', 'max': '100000'}\n",
      "{'r': 'ALL', 'p': '699', 'rg': 1, 'ps': '201910', 'px': 'HS', 'cc': '7108', 'freq': 'M', 'max': '100000'}\n",
      "{'r': 'ALL', 'p': '699', 'rg': 1, 'ps': '201911', 'px': 'HS', 'cc': '7108', 'freq': 'M', 'max': '100000'}\n",
      "{'r': 'ALL', 'p': '699', 'rg': 1, 'ps': '201912', 'px': 'HS', 'cc': '7108', 'freq': 'M', 'max': '100000'}\n"
     ]
    }
   ],
   "source": [
    "rp_exp = tta.api.get_month_data(reporter, partner, 2, period, cc) \n",
    "pt_imp = tta.api.get_month_data(partner, reporter, 1, period, cc) "
   ]
  },
  {
   "cell_type": "code",
   "execution_count": 8,
   "metadata": {},
   "outputs": [
    {
     "data": {
      "text/html": [
       "<div>\n",
       "<style scoped>\n",
       "    .dataframe tbody tr th:only-of-type {\n",
       "        vertical-align: middle;\n",
       "    }\n",
       "\n",
       "    .dataframe tbody tr th {\n",
       "        vertical-align: top;\n",
       "    }\n",
       "\n",
       "    .dataframe thead th {\n",
       "        text-align: right;\n",
       "    }\n",
       "</style>\n",
       "<table border=\"1\" class=\"dataframe\">\n",
       "  <thead>\n",
       "    <tr style=\"text-align: right;\">\n",
       "      <th></th>\n",
       "      <th>reporter</th>\n",
       "      <th>partner</th>\n",
       "      <th>month</th>\n",
       "    </tr>\n",
       "  </thead>\n",
       "  <tbody>\n",
       "    <tr>\n",
       "      <th>201901</th>\n",
       "      <td>0</td>\n",
       "      <td>0</td>\n",
       "      <td>201901</td>\n",
       "    </tr>\n",
       "    <tr>\n",
       "      <th>201902</th>\n",
       "      <td>0</td>\n",
       "      <td>0</td>\n",
       "      <td>201902</td>\n",
       "    </tr>\n",
       "    <tr>\n",
       "      <th>201903</th>\n",
       "      <td>0</td>\n",
       "      <td>0</td>\n",
       "      <td>201903</td>\n",
       "    </tr>\n",
       "    <tr>\n",
       "      <th>201904</th>\n",
       "      <td>0</td>\n",
       "      <td>0</td>\n",
       "      <td>201904</td>\n",
       "    </tr>\n",
       "    <tr>\n",
       "      <th>201905</th>\n",
       "      <td>0</td>\n",
       "      <td>0</td>\n",
       "      <td>201905</td>\n",
       "    </tr>\n",
       "    <tr>\n",
       "      <th>201906</th>\n",
       "      <td>0</td>\n",
       "      <td>0</td>\n",
       "      <td>201906</td>\n",
       "    </tr>\n",
       "    <tr>\n",
       "      <th>201907</th>\n",
       "      <td>0</td>\n",
       "      <td>0</td>\n",
       "      <td>201907</td>\n",
       "    </tr>\n",
       "    <tr>\n",
       "      <th>201908</th>\n",
       "      <td>0</td>\n",
       "      <td>0</td>\n",
       "      <td>201908</td>\n",
       "    </tr>\n",
       "    <tr>\n",
       "      <th>201909</th>\n",
       "      <td>0</td>\n",
       "      <td>0</td>\n",
       "      <td>201909</td>\n",
       "    </tr>\n",
       "    <tr>\n",
       "      <th>201910</th>\n",
       "      <td>0</td>\n",
       "      <td>0</td>\n",
       "      <td>201910</td>\n",
       "    </tr>\n",
       "    <tr>\n",
       "      <th>201911</th>\n",
       "      <td>0</td>\n",
       "      <td>0</td>\n",
       "      <td>201911</td>\n",
       "    </tr>\n",
       "    <tr>\n",
       "      <th>201912</th>\n",
       "      <td>0</td>\n",
       "      <td>0</td>\n",
       "      <td>201912</td>\n",
       "    </tr>\n",
       "  </tbody>\n",
       "</table>\n",
       "</div>"
      ],
      "text/plain": [
       "        reporter  partner   month\n",
       "201901         0        0  201901\n",
       "201902         0        0  201902\n",
       "201903         0        0  201903\n",
       "201904         0        0  201904\n",
       "201905         0        0  201905\n",
       "201906         0        0  201906\n",
       "201907         0        0  201907\n",
       "201908         0        0  201908\n",
       "201909         0        0  201909\n",
       "201910         0        0  201910\n",
       "201911         0        0  201911\n",
       "201912         0        0  201912"
      ]
     },
     "execution_count": 8,
     "metadata": {},
     "output_type": "execute_result"
    }
   ],
   "source": [
    "df = pd.DataFrame.from_dict([rp_exp, pt_imp])\n",
    "df.index = ['reporter', 'partner']\n",
    "df = df.T\n",
    "df['month'] = df.index\n",
    "df"
   ]
  },
  {
   "cell_type": "code",
   "execution_count": 9,
   "metadata": {},
   "outputs": [
    {
     "data": {
      "image/png": "[encoded data removed]",
      "text/plain": [
       "<Figure size 1440x720 with 1 Axes>"
      ]
     },
     "metadata": {
      "needs_background": "light"
     },
     "output_type": "display_data"
    }
   ],
   "source": [
    "df.plot(kind='bar', y=['reporter','partner'], x='month')\n",
    "plt.show()"
   ]
  },
  {
   "cell_type": "code",
   "execution_count": null,
   "metadata": {},
   "outputs": [],
   "source": []
  }
 ],
 "metadata": {
  "kernelspec": {
   "display_name": "Python 3",
   "language": "python",
   "name": "python3"
  },
  "language_info": {
   "codemirror_mode": {
    "name": "ipython",
    "version": 3
   },
   "file_extension": ".py",
   "mimetype": "text/x-python",
   "name": "python",
   "nbconvert_exporter": "python",
   "pygments_lexer": "ipython3",
   "version": "3.7.6"
  }
 },
 "nbformat": 4,
 "nbformat_minor": 1
}
