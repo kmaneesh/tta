{
 "cells": [
  {
   "cell_type": "markdown",
   "metadata": {},
   "source": [
    "# Initialisation"
   ]
  },
  {
   "cell_type": "code",
   "execution_count": 1,
   "metadata": {},
   "outputs": [],
   "source": [
    "import os\n",
    "import sys\n",
    "sys.path.append(\"../..\") \n",
    "ROOT_DIR = '/home/jovyan/tta'\n",
    "\n",
    "import pandas as pd\n",
    "import matplotlib.pyplot as plt\n",
    "pd.set_option('display.max_rows', 5000)\n",
    "\n",
    "from comtrade.api import Api\n",
    "api = Api()"
   ]
  },
  {
   "cell_type": "markdown",
   "metadata": {},
   "source": [
    "## Codes"
   ]
  },
  {
   "cell_type": "code",
   "execution_count": 2,
   "metadata": {},
   "outputs": [],
   "source": [
    "# Code for india as reporter and partner\n",
    "india = 699 \n",
    "# Trade regime\n",
    "# [{'id': '1', 'text': 'Import'}, {'id': '2', 'text': 'Export'}, \n",
    "# {'id': '3', 'text': 're-Export'}, {'id': '4', 'text': 're-Import'}]\n",
    "# Chapter\n",
    "cc = 7108"
   ]
  },
  {
   "cell_type": "markdown",
   "metadata": {},
   "source": [
    "# Data Available"
   ]
  },
  {
   "cell_type": "code",
   "execution_count": 3,
   "metadata": {},
   "outputs": [
    {
     "name": "stdout",
     "output_type": "stream",
     "text": [
      "[{'type': 'COMMODITIES', 'freq': 'MONTHLY', 'px': 'HS', 'r': '699', 'rDesc': 'India', 'ps': '201912', 'TotalRecords': 251502, 'isOriginal': 1, 'publicationDate': '2020-03-02T00:00:00', 'isPartnerDetail': 1}]\n"
     ]
    }
   ],
   "source": [
    "status = api.data_available(india, 201912, 'HS', 'M')\n",
    "print(status)"
   ]
  },
  {
   "cell_type": "markdown",
   "metadata": {},
   "source": [
    "## Import Data"
   ]
  },
  {
   "cell_type": "code",
   "execution_count": 4,
   "metadata": {},
   "outputs": [
    {
     "name": "stdout",
     "output_type": "stream",
     "text": [
      "{'r': 699, 'p': 'ALL', 'rg': 1, 'ps': '201901', 'px': 'HS', 'cc': 7108, 'freq': 'M', 'max': '100000'}\n",
      "{'r': 699, 'p': 'ALL', 'rg': 1, 'ps': '201902', 'px': 'HS', 'cc': 7108, 'freq': 'M', 'max': '100000'}\n",
      "{'r': 699, 'p': 'ALL', 'rg': 1, 'ps': '201903', 'px': 'HS', 'cc': 7108, 'freq': 'M', 'max': '100000'}\n",
      "{'r': 699, 'p': 'ALL', 'rg': 1, 'ps': '201904', 'px': 'HS', 'cc': 7108, 'freq': 'M', 'max': '100000'}\n",
      "{'r': 699, 'p': 'ALL', 'rg': 1, 'ps': '201905', 'px': 'HS', 'cc': 7108, 'freq': 'M', 'max': '100000'}\n",
      "{'r': 699, 'p': 'ALL', 'rg': 1, 'ps': '201906', 'px': 'HS', 'cc': 7108, 'freq': 'M', 'max': '100000'}\n",
      "{'r': 699, 'p': 'ALL', 'rg': 1, 'ps': '201907', 'px': 'HS', 'cc': 7108, 'freq': 'M', 'max': '100000'}\n",
      "{'r': 699, 'p': 'ALL', 'rg': 1, 'ps': '201908', 'px': 'HS', 'cc': 7108, 'freq': 'M', 'max': '100000'}\n",
      "{'r': 699, 'p': 'ALL', 'rg': 1, 'ps': '201909', 'px': 'HS', 'cc': 7108, 'freq': 'M', 'max': '100000'}\n",
      "{'r': 699, 'p': 'ALL', 'rg': 1, 'ps': '201910', 'px': 'HS', 'cc': 7108, 'freq': 'M', 'max': '100000'}\n",
      "{'r': 699, 'p': 'ALL', 'rg': 1, 'ps': '201911', 'px': 'HS', 'cc': 7108, 'freq': 'M', 'max': '100000'}\n",
      "{'r': 699, 'p': 'ALL', 'rg': 1, 'ps': '201912', 'px': 'HS', 'cc': 7108, 'freq': 'M', 'max': '100000'}\n",
      "{'r': 'ALL', 'p': 699, 'rg': 2, 'ps': '201901', 'px': 'HS', 'cc': 7108, 'freq': 'M', 'max': '100000'}\n",
      "{'r': 'ALL', 'p': 699, 'rg': 2, 'ps': '201902', 'px': 'HS', 'cc': 7108, 'freq': 'M', 'max': '100000'}\n",
      "{'r': 'ALL', 'p': 699, 'rg': 2, 'ps': '201903', 'px': 'HS', 'cc': 7108, 'freq': 'M', 'max': '100000'}\n",
      "{'r': 'ALL', 'p': 699, 'rg': 2, 'ps': '201904', 'px': 'HS', 'cc': 7108, 'freq': 'M', 'max': '100000'}\n",
      "{'r': 'ALL', 'p': 699, 'rg': 2, 'ps': '201905', 'px': 'HS', 'cc': 7108, 'freq': 'M', 'max': '100000'}\n",
      "{'r': 'ALL', 'p': 699, 'rg': 2, 'ps': '201906', 'px': 'HS', 'cc': 7108, 'freq': 'M', 'max': '100000'}\n",
      "{'r': 'ALL', 'p': 699, 'rg': 2, 'ps': '201907', 'px': 'HS', 'cc': 7108, 'freq': 'M', 'max': '100000'}\n",
      "{'r': 'ALL', 'p': 699, 'rg': 2, 'ps': '201908', 'px': 'HS', 'cc': 7108, 'freq': 'M', 'max': '100000'}\n",
      "{'r': 'ALL', 'p': 699, 'rg': 2, 'ps': '201909', 'px': 'HS', 'cc': 7108, 'freq': 'M', 'max': '100000'}\n",
      "{'r': 'ALL', 'p': 699, 'rg': 2, 'ps': '201910', 'px': 'HS', 'cc': 7108, 'freq': 'M', 'max': '100000'}\n",
      "{'r': 'ALL', 'p': 699, 'rg': 2, 'ps': '201911', 'px': 'HS', 'cc': 7108, 'freq': 'M', 'max': '100000'}\n",
      "{'r': 'ALL', 'p': 699, 'rg': 2, 'ps': '201912', 'px': 'HS', 'cc': 7108, 'freq': 'M', 'max': '100000'}\n"
     ]
    }
   ],
   "source": [
    "in_imp = api.get_month_data(india, 'ALL', 1, 2019, cc) \n",
    "all_exp = api.get_month_data('ALL', india, 2, 2019, cc) "
   ]
  },
  {
   "cell_type": "code",
   "execution_count": 5,
   "metadata": {},
   "outputs": [
    {
     "data": {
      "text/html": [
       "<div>\n",
       "<style scoped>\n",
       "    .dataframe tbody tr th:only-of-type {\n",
       "        vertical-align: middle;\n",
       "    }\n",
       "\n",
       "    .dataframe tbody tr th {\n",
       "        vertical-align: top;\n",
       "    }\n",
       "\n",
       "    .dataframe thead th {\n",
       "        text-align: right;\n",
       "    }\n",
       "</style>\n",
       "<table border=\"1\" class=\"dataframe\">\n",
       "  <thead>\n",
       "    <tr style=\"text-align: right;\">\n",
       "      <th></th>\n",
       "      <th>india</th>\n",
       "      <th>ALL</th>\n",
       "      <th>month</th>\n",
       "    </tr>\n",
       "  </thead>\n",
       "  <tbody>\n",
       "    <tr>\n",
       "      <th>201901</th>\n",
       "      <td>4626211260</td>\n",
       "      <td>1552036940</td>\n",
       "      <td>201901</td>\n",
       "    </tr>\n",
       "    <tr>\n",
       "      <th>201902</th>\n",
       "      <td>5166575977</td>\n",
       "      <td>1921678596</td>\n",
       "      <td>201902</td>\n",
       "    </tr>\n",
       "    <tr>\n",
       "      <th>201903</th>\n",
       "      <td>6547207458</td>\n",
       "      <td>2264890942</td>\n",
       "      <td>201903</td>\n",
       "    </tr>\n",
       "    <tr>\n",
       "      <th>201904</th>\n",
       "      <td>7944969417</td>\n",
       "      <td>3578095917</td>\n",
       "      <td>201904</td>\n",
       "    </tr>\n",
       "    <tr>\n",
       "      <th>201905</th>\n",
       "      <td>9561369754</td>\n",
       "      <td>3370668267</td>\n",
       "      <td>201905</td>\n",
       "    </tr>\n",
       "    <tr>\n",
       "      <th>201906</th>\n",
       "      <td>5393590064</td>\n",
       "      <td>1417048424</td>\n",
       "      <td>201906</td>\n",
       "    </tr>\n",
       "    <tr>\n",
       "      <th>201907</th>\n",
       "      <td>3426115468</td>\n",
       "      <td>1047642064</td>\n",
       "      <td>201907</td>\n",
       "    </tr>\n",
       "    <tr>\n",
       "      <th>201908</th>\n",
       "      <td>4600524161</td>\n",
       "      <td>1030445944</td>\n",
       "      <td>201908</td>\n",
       "    </tr>\n",
       "    <tr>\n",
       "      <th>201909</th>\n",
       "      <td>2551135368</td>\n",
       "      <td>827559218</td>\n",
       "      <td>201909</td>\n",
       "    </tr>\n",
       "    <tr>\n",
       "      <th>201910</th>\n",
       "      <td>3679173601</td>\n",
       "      <td>1318108740</td>\n",
       "      <td>201910</td>\n",
       "    </tr>\n",
       "    <tr>\n",
       "      <th>201911</th>\n",
       "      <td>5891038383</td>\n",
       "      <td>2024301933</td>\n",
       "      <td>201911</td>\n",
       "    </tr>\n",
       "    <tr>\n",
       "      <th>201912</th>\n",
       "      <td>4934715709</td>\n",
       "      <td>1256528637</td>\n",
       "      <td>201912</td>\n",
       "    </tr>\n",
       "  </tbody>\n",
       "</table>\n",
       "</div>"
      ],
      "text/plain": [
       "             india         ALL   month\n",
       "201901  4626211260  1552036940  201901\n",
       "201902  5166575977  1921678596  201902\n",
       "201903  6547207458  2264890942  201903\n",
       "201904  7944969417  3578095917  201904\n",
       "201905  9561369754  3370668267  201905\n",
       "201906  5393590064  1417048424  201906\n",
       "201907  3426115468  1047642064  201907\n",
       "201908  4600524161  1030445944  201908\n",
       "201909  2551135368   827559218  201909\n",
       "201910  3679173601  1318108740  201910\n",
       "201911  5891038383  2024301933  201911\n",
       "201912  4934715709  1256528637  201912"
      ]
     },
     "execution_count": 5,
     "metadata": {},
     "output_type": "execute_result"
    }
   ],
   "source": [
    "df = pd.DataFrame.from_dict([in_imp, all_exp])\n",
    "df.index = ['india', 'ALL']\n",
    "df = df.T\n",
    "df['month'] = df.index\n",
    "df"
   ]
  },
  {
   "cell_type": "code",
   "execution_count": 6,
   "metadata": {},
   "outputs": [
    {
     "data": {
      "image/png": "[encoded data removed]",
      "text/plain": [
       "<Figure size 432x288 with 1 Axes>"
      ]
     },
     "metadata": {
      "needs_background": "light"
     },
     "output_type": "display_data"
    }
   ],
   "source": [
    "df.plot(kind='bar', y=['india','ALL'], x='month')\n",
    "plt.show()"
   ]
  },
  {
   "cell_type": "markdown",
   "metadata": {},
   "source": [
    "# Export Data"
   ]
  },
  {
   "cell_type": "code",
   "execution_count": 7,
   "metadata": {},
   "outputs": [
    {
     "name": "stdout",
     "output_type": "stream",
     "text": [
      "{'r': 699, 'p': 'ALL', 'rg': 2, 'ps': '201901', 'px': 'HS', 'cc': 7108, 'freq': 'M', 'max': '100000'}\n",
      "{'r': 699, 'p': 'ALL', 'rg': 2, 'ps': '201902', 'px': 'HS', 'cc': 7108, 'freq': 'M', 'max': '100000'}\n",
      "{'r': 699, 'p': 'ALL', 'rg': 2, 'ps': '201903', 'px': 'HS', 'cc': 7108, 'freq': 'M', 'max': '100000'}\n",
      "{'r': 699, 'p': 'ALL', 'rg': 2, 'ps': '201904', 'px': 'HS', 'cc': 7108, 'freq': 'M', 'max': '100000'}\n",
      "{'r': 699, 'p': 'ALL', 'rg': 2, 'ps': '201905', 'px': 'HS', 'cc': 7108, 'freq': 'M', 'max': '100000'}\n",
      "{'r': 699, 'p': 'ALL', 'rg': 2, 'ps': '201906', 'px': 'HS', 'cc': 7108, 'freq': 'M', 'max': '100000'}\n",
      "{'r': 699, 'p': 'ALL', 'rg': 2, 'ps': '201907', 'px': 'HS', 'cc': 7108, 'freq': 'M', 'max': '100000'}\n",
      "{'r': 699, 'p': 'ALL', 'rg': 2, 'ps': '201908', 'px': 'HS', 'cc': 7108, 'freq': 'M', 'max': '100000'}\n",
      "{'r': 699, 'p': 'ALL', 'rg': 2, 'ps': '201909', 'px': 'HS', 'cc': 7108, 'freq': 'M', 'max': '100000'}\n",
      "{'r': 699, 'p': 'ALL', 'rg': 2, 'ps': '201910', 'px': 'HS', 'cc': 7108, 'freq': 'M', 'max': '100000'}\n",
      "{'r': 699, 'p': 'ALL', 'rg': 2, 'ps': '201911', 'px': 'HS', 'cc': 7108, 'freq': 'M', 'max': '100000'}\n",
      "{'r': 699, 'p': 'ALL', 'rg': 2, 'ps': '201912', 'px': 'HS', 'cc': 7108, 'freq': 'M', 'max': '100000'}\n",
      "{'r': 'ALL', 'p': 699, 'rg': 1, 'ps': '201901', 'px': 'HS', 'cc': 7108, 'freq': 'M', 'max': '100000'}\n",
      "{'r': 'ALL', 'p': 699, 'rg': 1, 'ps': '201902', 'px': 'HS', 'cc': 7108, 'freq': 'M', 'max': '100000'}\n",
      "{'r': 'ALL', 'p': 699, 'rg': 1, 'ps': '201903', 'px': 'HS', 'cc': 7108, 'freq': 'M', 'max': '100000'}\n",
      "{'r': 'ALL', 'p': 699, 'rg': 1, 'ps': '201904', 'px': 'HS', 'cc': 7108, 'freq': 'M', 'max': '100000'}\n",
      "{'r': 'ALL', 'p': 699, 'rg': 1, 'ps': '201905', 'px': 'HS', 'cc': 7108, 'freq': 'M', 'max': '100000'}\n",
      "{'r': 'ALL', 'p': 699, 'rg': 1, 'ps': '201906', 'px': 'HS', 'cc': 7108, 'freq': 'M', 'max': '100000'}\n",
      "{'r': 'ALL', 'p': 699, 'rg': 1, 'ps': '201907', 'px': 'HS', 'cc': 7108, 'freq': 'M', 'max': '100000'}\n",
      "{'r': 'ALL', 'p': 699, 'rg': 1, 'ps': '201908', 'px': 'HS', 'cc': 7108, 'freq': 'M', 'max': '100000'}\n",
      "{'r': 'ALL', 'p': 699, 'rg': 1, 'ps': '201909', 'px': 'HS', 'cc': 7108, 'freq': 'M', 'max': '100000'}\n",
      "{'r': 'ALL', 'p': 699, 'rg': 1, 'ps': '201910', 'px': 'HS', 'cc': 7108, 'freq': 'M', 'max': '100000'}\n",
      "{'r': 'ALL', 'p': 699, 'rg': 1, 'ps': '201911', 'px': 'HS', 'cc': 7108, 'freq': 'M', 'max': '100000'}\n",
      "{'r': 'ALL', 'p': 699, 'rg': 1, 'ps': '201912', 'px': 'HS', 'cc': 7108, 'freq': 'M', 'max': '100000'}\n"
     ]
    }
   ],
   "source": [
    "in_exp = api.get_month_data(india, 'ALL', 2, 2019, cc) \n",
    "all_imp = api.get_month_data('ALL', india, 1, 2019, cc) "
   ]
  },
  {
   "cell_type": "code",
   "execution_count": 8,
   "metadata": {},
   "outputs": [
    {
     "data": {
      "text/html": [
       "<div>\n",
       "<style scoped>\n",
       "    .dataframe tbody tr th:only-of-type {\n",
       "        vertical-align: middle;\n",
       "    }\n",
       "\n",
       "    .dataframe tbody tr th {\n",
       "        vertical-align: top;\n",
       "    }\n",
       "\n",
       "    .dataframe thead th {\n",
       "        text-align: right;\n",
       "    }\n",
       "</style>\n",
       "<table border=\"1\" class=\"dataframe\">\n",
       "  <thead>\n",
       "    <tr style=\"text-align: right;\">\n",
       "      <th></th>\n",
       "      <th>india</th>\n",
       "      <th>ALL</th>\n",
       "      <th>month</th>\n",
       "    </tr>\n",
       "  </thead>\n",
       "  <tbody>\n",
       "    <tr>\n",
       "      <th>201901</th>\n",
       "      <td>4626211260</td>\n",
       "      <td>1552036940</td>\n",
       "      <td>201901</td>\n",
       "    </tr>\n",
       "    <tr>\n",
       "      <th>201902</th>\n",
       "      <td>5166575977</td>\n",
       "      <td>1921678596</td>\n",
       "      <td>201902</td>\n",
       "    </tr>\n",
       "    <tr>\n",
       "      <th>201903</th>\n",
       "      <td>6547207458</td>\n",
       "      <td>2264890942</td>\n",
       "      <td>201903</td>\n",
       "    </tr>\n",
       "    <tr>\n",
       "      <th>201904</th>\n",
       "      <td>7944969417</td>\n",
       "      <td>3578095917</td>\n",
       "      <td>201904</td>\n",
       "    </tr>\n",
       "    <tr>\n",
       "      <th>201905</th>\n",
       "      <td>9561369754</td>\n",
       "      <td>3370668267</td>\n",
       "      <td>201905</td>\n",
       "    </tr>\n",
       "    <tr>\n",
       "      <th>201906</th>\n",
       "      <td>5393590064</td>\n",
       "      <td>1417048424</td>\n",
       "      <td>201906</td>\n",
       "    </tr>\n",
       "    <tr>\n",
       "      <th>201907</th>\n",
       "      <td>3426115468</td>\n",
       "      <td>1047642064</td>\n",
       "      <td>201907</td>\n",
       "    </tr>\n",
       "    <tr>\n",
       "      <th>201908</th>\n",
       "      <td>4600524161</td>\n",
       "      <td>1030445944</td>\n",
       "      <td>201908</td>\n",
       "    </tr>\n",
       "    <tr>\n",
       "      <th>201909</th>\n",
       "      <td>2551135368</td>\n",
       "      <td>827559218</td>\n",
       "      <td>201909</td>\n",
       "    </tr>\n",
       "    <tr>\n",
       "      <th>201910</th>\n",
       "      <td>3679173601</td>\n",
       "      <td>1318108740</td>\n",
       "      <td>201910</td>\n",
       "    </tr>\n",
       "    <tr>\n",
       "      <th>201911</th>\n",
       "      <td>5891038383</td>\n",
       "      <td>2024301933</td>\n",
       "      <td>201911</td>\n",
       "    </tr>\n",
       "    <tr>\n",
       "      <th>201912</th>\n",
       "      <td>4934715709</td>\n",
       "      <td>1256528637</td>\n",
       "      <td>201912</td>\n",
       "    </tr>\n",
       "  </tbody>\n",
       "</table>\n",
       "</div>"
      ],
      "text/plain": [
       "             india         ALL   month\n",
       "201901  4626211260  1552036940  201901\n",
       "201902  5166575977  1921678596  201902\n",
       "201903  6547207458  2264890942  201903\n",
       "201904  7944969417  3578095917  201904\n",
       "201905  9561369754  3370668267  201905\n",
       "201906  5393590064  1417048424  201906\n",
       "201907  3426115468  1047642064  201907\n",
       "201908  4600524161  1030445944  201908\n",
       "201909  2551135368   827559218  201909\n",
       "201910  3679173601  1318108740  201910\n",
       "201911  5891038383  2024301933  201911\n",
       "201912  4934715709  1256528637  201912"
      ]
     },
     "execution_count": 8,
     "metadata": {},
     "output_type": "execute_result"
    }
   ],
   "source": [
    "df = pd.DataFrame.from_dict([in_imp, all_exp])\n",
    "df.index = ['india', 'ALL']\n",
    "df = df.T\n",
    "df['month'] = df.index\n",
    "df"
   ]
  },
  {
   "cell_type": "code",
   "execution_count": 9,
   "metadata": {},
   "outputs": [
    {
     "data": {
      "image/png": "[encoded data removed]",
      "text/plain": [
       "<Figure size 432x288 with 1 Axes>"
      ]
     },
     "metadata": {
      "needs_background": "light"
     },
     "output_type": "display_data"
    }
   ],
   "source": [
    "df.plot(kind='bar', y=['india','ALL'], x='month')\n",
    "plt.show()"
   ]
  }
 ],
 "metadata": {
  "kernelspec": {
   "display_name": "Python 3",
   "language": "python",
   "name": "python3"
  },
  "language_info": {
   "codemirror_mode": {
    "name": "ipython",
    "version": 3
   },
   "file_extension": ".py",
   "mimetype": "text/x-python",
   "name": "python",
   "nbconvert_exporter": "python",
   "pygments_lexer": "ipython3",
   "version": "3.7.6"
  }
 },
 "nbformat": 4,
 "nbformat_minor": 1
}
