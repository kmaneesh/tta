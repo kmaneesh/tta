{
 "cells": [
  {
   "cell_type": "markdown",
   "metadata": {},
   "source": [
    "# Help\n",
    "\n",
    "The notebook retrives the data from the Un Com Trade and prepares the data for ready analysis. The parameters in the next cell can be changed and the notebook can be run again to get updated results. The code paramaters can be located using the links.\n",
    "\n",
    "* Reporter Area (r): https://comtrade.un.org/Data/cache/reporterAreas.json\n",
    "* Partner Area (p): https://comtrade.un.org/Data/cache/partnerAreas.json\n",
    "* Frequency (freq): Monthly - M, Annual - A\n",
    "* Period (ps) : Annual (YYYY) - 2019, Monthly (YYYY or YYYYMM): Individual periods as 201001 or full years as 2010, automatically expands to query periods 201001,201002,201003,...,201012.\n",
    "* Classification (px): HS\n",
    "* Regime (rg) : [{'id': '1', 'text': 'Import'}, {'id': '2', 'text': 'Export'}, {'id': '3', 'text': 're-Export'}, {'id': '4', 'text': 're-Import'}]\n",
    "* Classification Code (cc): a commodity code valid in the selected classification. Full lists of codes for each classification are linked to above under the px parameter. Some codes are valid in all classifications - \n",
    "TOTAL Total trade between reporter and partner, no detail breakdown. AG1, AG2, AG3, AG4, AG5, AG6 Detailed codes at a specific digit level. For instance AG6 in HS gives all of the 6-digit codes, which are the most detailed codes that are internationally comparable. Not all classifications have all digit levels available.  ALL All codes in the classification.\n",
    "\n",
    "**a series is reporter data, b series is partner data**\n",
    "\n",
    "**Make change to other cell at your own discretion. A wrong change will break the application. When making change in the next cell, please make sure the value is enclosed by single quote. When data is pulled you can see the parameters which are used to full data**"
   ]
  },
  {
   "cell_type": "code",
   "execution_count": 1,
   "metadata": {},
   "outputs": [],
   "source": [
    "# Reporter\n",
    "reporter = '699' # India\n",
    "# Partner\n",
    "partner = 'ALL' # All\n",
    "# Period\n",
    "period = '2019' # Annual\n",
    "# Classification Code\n",
    "cc = '7108'"
   ]
  },
  {
   "cell_type": "markdown",
   "metadata": {},
   "source": [
    "# Initialisation"
   ]
  },
  {
   "cell_type": "code",
   "execution_count": 2,
   "metadata": {},
   "outputs": [],
   "source": [
    "import os\n",
    "import sys\n",
    "sys.path.append(\"../..\") \n",
    "ROOT_DIR = '/home/jovyan/tta'\n",
    "\n",
    "import pandas as pd\n",
    "import matplotlib.pyplot as plt\n",
    "pd.set_option('display.max_rows', 5000)\n",
    "plt.rcParams['figure.figsize'] = [20, 10]\n",
    "\n",
    "from comtrade.analysis import Analysis\n",
    "tta = Analysis()"
   ]
  },
  {
   "cell_type": "markdown",
   "metadata": {},
   "source": [
    "# Available"
   ]
  },
  {
   "cell_type": "code",
   "execution_count": 3,
   "metadata": {},
   "outputs": [
    {
     "name": "stdout",
     "output_type": "stream",
     "text": [
      "[{'type': 'COMMODITIES', 'freq': 'MONTHLY', 'px': 'HS', 'r': '699', 'rDesc': 'India', 'ps': '201912', 'TotalRecords': 251502, 'isOriginal': 1, 'publicationDate': '2020-03-02T00:00:00', 'isPartnerDetail': 1}]\n",
      "[{'type': 'COMMODITIES', 'freq': 'MONTHLY', 'px': 'HS', 'r': '344', 'rDesc': 'China, Hong Kong SAR', 'ps': '201912', 'TotalRecords': 139319, 'isOriginal': 1, 'publicationDate': '2020-02-08T00:00:00', 'isPartnerDetail': 1}]\n"
     ]
    }
   ],
   "source": [
    "status = tta.data_available(reporter, 201912, 'HS', 'M')\n",
    "print(status)\n",
    "status = tta.data_available(partner, 201912, 'HS', 'M')\n",
    "print(status)"
   ]
  },
  {
   "cell_type": "markdown",
   "metadata": {},
   "source": [
    "## Import Data"
   ]
  },
  {
   "cell_type": "code",
   "execution_count": 4,
   "metadata": {},
   "outputs": [
    {
     "name": "stdout",
     "output_type": "stream",
     "text": [
      "{'r': '699', 'p': '344', 'rg': 1, 'ps': '201901', 'px': 'HS', 'cc': '7108', 'freq': 'M', 'max': '100000'}\n",
      "{'r': '699', 'p': '344', 'rg': 1, 'ps': '201902', 'px': 'HS', 'cc': '7108', 'freq': 'M', 'max': '100000'}\n",
      "{'r': '699', 'p': '344', 'rg': 1, 'ps': '201903', 'px': 'HS', 'cc': '7108', 'freq': 'M', 'max': '100000'}\n",
      "{'r': '699', 'p': '344', 'rg': 1, 'ps': '201904', 'px': 'HS', 'cc': '7108', 'freq': 'M', 'max': '100000'}\n",
      "{'r': '699', 'p': '344', 'rg': 1, 'ps': '201905', 'px': 'HS', 'cc': '7108', 'freq': 'M', 'max': '100000'}\n",
      "{'r': '699', 'p': '344', 'rg': 1, 'ps': '201906', 'px': 'HS', 'cc': '7108', 'freq': 'M', 'max': '100000'}\n",
      "{'r': '699', 'p': '344', 'rg': 1, 'ps': '201907', 'px': 'HS', 'cc': '7108', 'freq': 'M', 'max': '100000'}\n",
      "{'r': '699', 'p': '344', 'rg': 1, 'ps': '201908', 'px': 'HS', 'cc': '7108', 'freq': 'M', 'max': '100000'}\n",
      "{'r': '699', 'p': '344', 'rg': 1, 'ps': '201909', 'px': 'HS', 'cc': '7108', 'freq': 'M', 'max': '100000'}\n",
      "{'r': '699', 'p': '344', 'rg': 1, 'ps': '201910', 'px': 'HS', 'cc': '7108', 'freq': 'M', 'max': '100000'}\n",
      "{'r': '699', 'p': '344', 'rg': 1, 'ps': '201911', 'px': 'HS', 'cc': '7108', 'freq': 'M', 'max': '100000'}\n",
      "{'r': '699', 'p': '344', 'rg': 1, 'ps': '201912', 'px': 'HS', 'cc': '7108', 'freq': 'M', 'max': '100000'}\n",
      "{'r': '344', 'p': '699', 'rg': 2, 'ps': '201901', 'px': 'HS', 'cc': '7108', 'freq': 'M', 'max': '100000'}\n",
      "{'r': '344', 'p': '699', 'rg': 2, 'ps': '201902', 'px': 'HS', 'cc': '7108', 'freq': 'M', 'max': '100000'}\n",
      "{'r': '344', 'p': '699', 'rg': 2, 'ps': '201903', 'px': 'HS', 'cc': '7108', 'freq': 'M', 'max': '100000'}\n",
      "{'r': '344', 'p': '699', 'rg': 2, 'ps': '201904', 'px': 'HS', 'cc': '7108', 'freq': 'M', 'max': '100000'}\n",
      "{'r': '344', 'p': '699', 'rg': 2, 'ps': '201905', 'px': 'HS', 'cc': '7108', 'freq': 'M', 'max': '100000'}\n",
      "{'r': '344', 'p': '699', 'rg': 2, 'ps': '201906', 'px': 'HS', 'cc': '7108', 'freq': 'M', 'max': '100000'}\n",
      "{'r': '344', 'p': '699', 'rg': 2, 'ps': '201907', 'px': 'HS', 'cc': '7108', 'freq': 'M', 'max': '100000'}\n",
      "{'r': '344', 'p': '699', 'rg': 2, 'ps': '201908', 'px': 'HS', 'cc': '7108', 'freq': 'M', 'max': '100000'}\n",
      "{'r': '344', 'p': '699', 'rg': 2, 'ps': '201909', 'px': 'HS', 'cc': '7108', 'freq': 'M', 'max': '100000'}\n",
      "{'r': '344', 'p': '699', 'rg': 2, 'ps': '201910', 'px': 'HS', 'cc': '7108', 'freq': 'M', 'max': '100000'}\n",
      "{'r': '344', 'p': '699', 'rg': 2, 'ps': '201911', 'px': 'HS', 'cc': '7108', 'freq': 'M', 'max': '100000'}\n",
      "{'r': '344', 'p': '699', 'rg': 2, 'ps': '201912', 'px': 'HS', 'cc': '7108', 'freq': 'M', 'max': '100000'}\n"
     ]
    }
   ],
   "source": [
    "rp_imp = tta.api.get_month_data(reporter, partner, 1, period, cc) \n",
    "pt_exp = tta.api.get_month_data(partner, reporter, 2, period, cc) "
   ]
  },
  {
   "cell_type": "code",
   "execution_count": 5,
   "metadata": {},
   "outputs": [
    {
     "data": {
      "text/html": [
       "<div>\n",
       "<style scoped>\n",
       "    .dataframe tbody tr th:only-of-type {\n",
       "        vertical-align: middle;\n",
       "    }\n",
       "\n",
       "    .dataframe tbody tr th {\n",
       "        vertical-align: top;\n",
       "    }\n",
       "\n",
       "    .dataframe thead th {\n",
       "        text-align: right;\n",
       "    }\n",
       "</style>\n",
       "<table border=\"1\" class=\"dataframe\">\n",
       "  <thead>\n",
       "    <tr style=\"text-align: right;\">\n",
       "      <th></th>\n",
       "      <th>reporter</th>\n",
       "      <th>partner</th>\n",
       "      <th>month</th>\n",
       "    </tr>\n",
       "  </thead>\n",
       "  <tbody>\n",
       "    <tr>\n",
       "      <th>201901</th>\n",
       "      <td>82463135</td>\n",
       "      <td>0</td>\n",
       "      <td>201901</td>\n",
       "    </tr>\n",
       "    <tr>\n",
       "      <th>201902</th>\n",
       "      <td>78621608</td>\n",
       "      <td>0</td>\n",
       "      <td>201902</td>\n",
       "    </tr>\n",
       "    <tr>\n",
       "      <th>201903</th>\n",
       "      <td>15228342</td>\n",
       "      <td>0</td>\n",
       "      <td>201903</td>\n",
       "    </tr>\n",
       "    <tr>\n",
       "      <th>201904</th>\n",
       "      <td>70728961</td>\n",
       "      <td>0</td>\n",
       "      <td>201904</td>\n",
       "    </tr>\n",
       "    <tr>\n",
       "      <th>201905</th>\n",
       "      <td>7207434</td>\n",
       "      <td>0</td>\n",
       "      <td>201905</td>\n",
       "    </tr>\n",
       "    <tr>\n",
       "      <th>201906</th>\n",
       "      <td>0</td>\n",
       "      <td>0</td>\n",
       "      <td>201906</td>\n",
       "    </tr>\n",
       "    <tr>\n",
       "      <th>201907</th>\n",
       "      <td>0</td>\n",
       "      <td>0</td>\n",
       "      <td>201907</td>\n",
       "    </tr>\n",
       "    <tr>\n",
       "      <th>201908</th>\n",
       "      <td>0</td>\n",
       "      <td>0</td>\n",
       "      <td>201908</td>\n",
       "    </tr>\n",
       "    <tr>\n",
       "      <th>201909</th>\n",
       "      <td>0</td>\n",
       "      <td>0</td>\n",
       "      <td>201909</td>\n",
       "    </tr>\n",
       "    <tr>\n",
       "      <th>201910</th>\n",
       "      <td>0</td>\n",
       "      <td>0</td>\n",
       "      <td>201910</td>\n",
       "    </tr>\n",
       "    <tr>\n",
       "      <th>201911</th>\n",
       "      <td>0</td>\n",
       "      <td>0</td>\n",
       "      <td>201911</td>\n",
       "    </tr>\n",
       "    <tr>\n",
       "      <th>201912</th>\n",
       "      <td>0</td>\n",
       "      <td>0</td>\n",
       "      <td>201912</td>\n",
       "    </tr>\n",
       "  </tbody>\n",
       "</table>\n",
       "</div>"
      ],
      "text/plain": [
       "        reporter  partner   month\n",
       "201901  82463135        0  201901\n",
       "201902  78621608        0  201902\n",
       "201903  15228342        0  201903\n",
       "201904  70728961        0  201904\n",
       "201905   7207434        0  201905\n",
       "201906         0        0  201906\n",
       "201907         0        0  201907\n",
       "201908         0        0  201908\n",
       "201909         0        0  201909\n",
       "201910         0        0  201910\n",
       "201911         0        0  201911\n",
       "201912         0        0  201912"
      ]
     },
     "execution_count": 5,
     "metadata": {},
     "output_type": "execute_result"
    }
   ],
   "source": [
    "df = pd.DataFrame.from_dict([rp_imp, pt_exp])\n",
    "df.index = ['reporter', 'partner']\n",
    "df = df.T\n",
    "df['month'] = df.index\n",
    "df"
   ]
  },
  {
   "cell_type": "code",
   "execution_count": 6,
   "metadata": {},
   "outputs": [
    {
     "data": {
      "image/png": "[encoded data removed]",
      "text/plain": [
       "<Figure size 1440x720 with 1 Axes>"
      ]
     },
     "metadata": {
      "needs_background": "light"
     },
     "output_type": "display_data"
    }
   ],
   "source": [
    "df.plot(kind='bar', y=['reporter','partner'], x='month')\n",
    "plt.show()"
   ]
  },
  {
   "cell_type": "markdown",
   "metadata": {},
   "source": [
    "# Export Data"
   ]
  },
  {
   "cell_type": "code",
   "execution_count": 7,
   "metadata": {},
   "outputs": [
    {
     "name": "stdout",
     "output_type": "stream",
     "text": [
      "{'r': '699', 'p': '344', 'rg': 2, 'ps': '201901', 'px': 'HS', 'cc': '7108', 'freq': 'M', 'max': '100000'}\n",
      "{'r': '699', 'p': '344', 'rg': 2, 'ps': '201902', 'px': 'HS', 'cc': '7108', 'freq': 'M', 'max': '100000'}\n",
      "{'r': '699', 'p': '344', 'rg': 2, 'ps': '201903', 'px': 'HS', 'cc': '7108', 'freq': 'M', 'max': '100000'}\n",
      "{'r': '699', 'p': '344', 'rg': 2, 'ps': '201904', 'px': 'HS', 'cc': '7108', 'freq': 'M', 'max': '100000'}\n",
      "{'r': '699', 'p': '344', 'rg': 2, 'ps': '201905', 'px': 'HS', 'cc': '7108', 'freq': 'M', 'max': '100000'}\n",
      "{'r': '699', 'p': '344', 'rg': 2, 'ps': '201906', 'px': 'HS', 'cc': '7108', 'freq': 'M', 'max': '100000'}\n",
      "{'r': '699', 'p': '344', 'rg': 2, 'ps': '201907', 'px': 'HS', 'cc': '7108', 'freq': 'M', 'max': '100000'}\n",
      "{'r': '699', 'p': '344', 'rg': 2, 'ps': '201908', 'px': 'HS', 'cc': '7108', 'freq': 'M', 'max': '100000'}\n",
      "{'r': '699', 'p': '344', 'rg': 2, 'ps': '201909', 'px': 'HS', 'cc': '7108', 'freq': 'M', 'max': '100000'}\n",
      "{'r': '699', 'p': '344', 'rg': 2, 'ps': '201910', 'px': 'HS', 'cc': '7108', 'freq': 'M', 'max': '100000'}\n",
      "{'r': '699', 'p': '344', 'rg': 2, 'ps': '201911', 'px': 'HS', 'cc': '7108', 'freq': 'M', 'max': '100000'}\n",
      "{'r': '699', 'p': '344', 'rg': 2, 'ps': '201912', 'px': 'HS', 'cc': '7108', 'freq': 'M', 'max': '100000'}\n",
      "{'r': '344', 'p': '699', 'rg': 1, 'ps': '201901', 'px': 'HS', 'cc': '7108', 'freq': 'M', 'max': '100000'}\n",
      "{'r': '344', 'p': '699', 'rg': 1, 'ps': '201902', 'px': 'HS', 'cc': '7108', 'freq': 'M', 'max': '100000'}\n",
      "{'r': '344', 'p': '699', 'rg': 1, 'ps': '201903', 'px': 'HS', 'cc': '7108', 'freq': 'M', 'max': '100000'}\n",
      "{'r': '344', 'p': '699', 'rg': 1, 'ps': '201904', 'px': 'HS', 'cc': '7108', 'freq': 'M', 'max': '100000'}\n",
      "{'r': '344', 'p': '699', 'rg': 1, 'ps': '201905', 'px': 'HS', 'cc': '7108', 'freq': 'M', 'max': '100000'}\n",
      "{'r': '344', 'p': '699', 'rg': 1, 'ps': '201906', 'px': 'HS', 'cc': '7108', 'freq': 'M', 'max': '100000'}\n",
      "{'r': '344', 'p': '699', 'rg': 1, 'ps': '201907', 'px': 'HS', 'cc': '7108', 'freq': 'M', 'max': '100000'}\n",
      "{'r': '344', 'p': '699', 'rg': 1, 'ps': '201908', 'px': 'HS', 'cc': '7108', 'freq': 'M', 'max': '100000'}\n",
      "{'r': '344', 'p': '699', 'rg': 1, 'ps': '201909', 'px': 'HS', 'cc': '7108', 'freq': 'M', 'max': '100000'}\n",
      "{'r': '344', 'p': '699', 'rg': 1, 'ps': '201910', 'px': 'HS', 'cc': '7108', 'freq': 'M', 'max': '100000'}\n",
      "{'r': '344', 'p': '699', 'rg': 1, 'ps': '201911', 'px': 'HS', 'cc': '7108', 'freq': 'M', 'max': '100000'}\n",
      "{'r': '344', 'p': '699', 'rg': 1, 'ps': '201912', 'px': 'HS', 'cc': '7108', 'freq': 'M', 'max': '100000'}\n"
     ]
    }
   ],
   "source": [
    "rp_exp = tta.api.get_month_data(reporter, partner, 2, period, cc) \n",
    "pt_imp = tta.api.get_month_data(partner, reporter, 1, period, cc) "
   ]
  },
  {
   "cell_type": "code",
   "execution_count": 8,
   "metadata": {},
   "outputs": [
    {
     "data": {
      "text/html": [
       "<div>\n",
       "<style scoped>\n",
       "    .dataframe tbody tr th:only-of-type {\n",
       "        vertical-align: middle;\n",
       "    }\n",
       "\n",
       "    .dataframe tbody tr th {\n",
       "        vertical-align: top;\n",
       "    }\n",
       "\n",
       "    .dataframe thead th {\n",
       "        text-align: right;\n",
       "    }\n",
       "</style>\n",
       "<table border=\"1\" class=\"dataframe\">\n",
       "  <thead>\n",
       "    <tr style=\"text-align: right;\">\n",
       "      <th></th>\n",
       "      <th>reporter</th>\n",
       "      <th>partner</th>\n",
       "      <th>month</th>\n",
       "    </tr>\n",
       "  </thead>\n",
       "  <tbody>\n",
       "    <tr>\n",
       "      <th>201901</th>\n",
       "      <td>0</td>\n",
       "      <td>0</td>\n",
       "      <td>201901</td>\n",
       "    </tr>\n",
       "    <tr>\n",
       "      <th>201902</th>\n",
       "      <td>0</td>\n",
       "      <td>0</td>\n",
       "      <td>201902</td>\n",
       "    </tr>\n",
       "    <tr>\n",
       "      <th>201903</th>\n",
       "      <td>0</td>\n",
       "      <td>0</td>\n",
       "      <td>201903</td>\n",
       "    </tr>\n",
       "    <tr>\n",
       "      <th>201904</th>\n",
       "      <td>0</td>\n",
       "      <td>0</td>\n",
       "      <td>201904</td>\n",
       "    </tr>\n",
       "    <tr>\n",
       "      <th>201905</th>\n",
       "      <td>0</td>\n",
       "      <td>0</td>\n",
       "      <td>201905</td>\n",
       "    </tr>\n",
       "    <tr>\n",
       "      <th>201906</th>\n",
       "      <td>0</td>\n",
       "      <td>0</td>\n",
       "      <td>201906</td>\n",
       "    </tr>\n",
       "    <tr>\n",
       "      <th>201907</th>\n",
       "      <td>0</td>\n",
       "      <td>0</td>\n",
       "      <td>201907</td>\n",
       "    </tr>\n",
       "    <tr>\n",
       "      <th>201908</th>\n",
       "      <td>0</td>\n",
       "      <td>0</td>\n",
       "      <td>201908</td>\n",
       "    </tr>\n",
       "    <tr>\n",
       "      <th>201909</th>\n",
       "      <td>0</td>\n",
       "      <td>0</td>\n",
       "      <td>201909</td>\n",
       "    </tr>\n",
       "    <tr>\n",
       "      <th>201910</th>\n",
       "      <td>0</td>\n",
       "      <td>0</td>\n",
       "      <td>201910</td>\n",
       "    </tr>\n",
       "    <tr>\n",
       "      <th>201911</th>\n",
       "      <td>0</td>\n",
       "      <td>0</td>\n",
       "      <td>201911</td>\n",
       "    </tr>\n",
       "    <tr>\n",
       "      <th>201912</th>\n",
       "      <td>0</td>\n",
       "      <td>0</td>\n",
       "      <td>201912</td>\n",
       "    </tr>\n",
       "  </tbody>\n",
       "</table>\n",
       "</div>"
      ],
      "text/plain": [
       "        reporter  partner   month\n",
       "201901         0        0  201901\n",
       "201902         0        0  201902\n",
       "201903         0        0  201903\n",
       "201904         0        0  201904\n",
       "201905         0        0  201905\n",
       "201906         0        0  201906\n",
       "201907         0        0  201907\n",
       "201908         0        0  201908\n",
       "201909         0        0  201909\n",
       "201910         0        0  201910\n",
       "201911         0        0  201911\n",
       "201912         0        0  201912"
      ]
     },
     "execution_count": 8,
     "metadata": {},
     "output_type": "execute_result"
    }
   ],
   "source": [
    "df = pd.DataFrame.from_dict([rp_exp, pt_imp])\n",
    "df.index = ['reporter', 'partner']\n",
    "df = df.T\n",
    "df['month'] = df.index\n",
    "df"
   ]
  },
  {
   "cell_type": "code",
   "execution_count": 9,
   "metadata": {},
   "outputs": [
    {
     "data": {
      "image/png": "[encoded data removed]",
      "text/plain": [
       "<Figure size 1440x720 with 1 Axes>"
      ]
     },
     "metadata": {
      "needs_background": "light"
     },
     "output_type": "display_data"
    }
   ],
   "source": [
    "df.plot(kind='bar', y=['reporter','partner'], x='month')\n",
    "plt.show()"
   ]
  },
  {
   "cell_type": "code",
   "execution_count": null,
   "metadata": {},
   "outputs": [],
   "source": []
  }
 ],
 "metadata": {
  "kernelspec": {
   "display_name": "Python 3",
   "language": "python",
   "name": "python3"
  },
  "language_info": {
   "codemirror_mode": {
    "name": "ipython",
    "version": 3
   },
   "file_extension": ".py",
   "mimetype": "text/x-python",
   "name": "python",
   "nbconvert_exporter": "python",
   "pygments_lexer": "ipython3",
   "version": "3.7.6"
  }
 },
 "nbformat": 4,
 "nbformat_minor": 1
}
